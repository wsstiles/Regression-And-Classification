{
  "nbformat": 4,
  "nbformat_minor": 0,
  "metadata": {
    "colab": {
      "name": "Predicting_Loan_Default.ipynb",
      "provenance": [],
      "collapsed_sections": []
    },
    "kernelspec": {
      "display_name": "Python 3",
      "language": "python",
      "name": "python3"
    },
    "language_info": {
      "codemirror_mode": {
        "name": "ipython",
        "version": 3
      },
      "file_extension": ".py",
      "mimetype": "text/x-python",
      "name": "python",
      "nbconvert_exporter": "python",
      "pygments_lexer": "ipython3",
      "version": "3.8.3"
    }
  },
  "cells": [
    {
      "cell_type": "markdown",
      "metadata": {
        "id": "917Lmjp9vpig"
      },
      "source": [
        "# Classification: Predicting Default\n",
        "\n",
        "## Problem and Context\n",
        "\n",
        "It is critical to be able to identify the potential loan defaults when working in the financial domain. Given a set of features about a person, the goal of this project is to predict if the person will default on a loan or not.\n",
        "\n",
        "## Data Information\n",
        "\n",
        "The data we will use has the following features:\n",
        "\n",
        "- **Default**: Yes/No, categorical dependent variable suggesting the state of default\n",
        "- **Student**: Yes/No, categorical independent variable depicting if the applicant is a student or not.\n",
        "- **balance**: account balance of the applicant\n",
        "- **Income**: Income of the applicant"
      ]
    },
    {
      "cell_type": "markdown",
      "metadata": {
        "id": "NVengD1hzHWa"
      },
      "source": [
        "### Import the libraries"
      ]
    },
    {
      "cell_type": "code",
      "metadata": {
        "id": "MFioBzbnzBnx"
      },
      "source": [
        "import pandas as pd\n",
        "import numpy as np\n",
        "import numpy as np\n",
        "from sklearn import linear_model\n",
        "import matplotlib.pyplot as plt\n",
        "import seaborn as sns"
      ],
      "execution_count": 1,
      "outputs": []
    },
    {
      "cell_type": "code",
      "metadata": {
        "id": "BPumBit-h_96"
      },
      "source": [
        "import warnings\n",
        "warnings.filterwarnings('ignore')\n",
        "\n",
        "# Remove the scientific notation and display numbers with 2 significant figures instead\n",
        "pd.options.display.float_format = '{:,.2f}'.format        \n",
        "\n",
        "# Set the default background style of plots\n",
        "sns.set_style(style='darkgrid')"
      ],
      "execution_count": 3,
      "outputs": []
    },
    {
      "cell_type": "code",
      "metadata": {
        "id": "-_STK5Iawokh",
        "colab": {
          "resources": {
            "http://localhost:8080/nbextensions/google.colab/files.js": {
              "data": "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",
              "ok": true,
              "headers": [
                [
                  "content-type",
                  "application/javascript"
                ]
              ],
              "status": 200,
              "status_text": ""
            }
          },
          "base_uri": "https://localhost:8080/",
          "height": 73
        },
        "outputId": "2fd00945-7ccf-4579-ec73-53fd4a2a9e3c"
      },
      "source": [
        "# Import library necessary for file uploads\n",
        "from google.colab import files\n",
        "# Request the upload of the data file\n",
        "uploaded = files.upload()\n",
        "\n",
        "# Read the data file into a dataframe\n",
        "df = pd.read_csv('Default.csv')"
      ],
      "execution_count": 4,
      "outputs": [
        {
          "output_type": "display_data",
          "data": {
            "text/html": [
              "\n",
              "     <input type=\"file\" id=\"files-d54c254e-ba8d-49a4-b210-ce96ea60b763\" name=\"files[]\" multiple disabled\n",
              "        style=\"border:none\" />\n",
              "     <output id=\"result-d54c254e-ba8d-49a4-b210-ce96ea60b763\">\n",
              "      Upload widget is only available when the cell has been executed in the\n",
              "      current browser session. Please rerun this cell to enable.\n",
              "      </output>\n",
              "      <script src=\"/nbextensions/google.colab/files.js\"></script> "
            ],
            "text/plain": [
              "<IPython.core.display.HTML object>"
            ]
          },
          "metadata": {}
        },
        {
          "output_type": "stream",
          "name": "stdout",
          "text": [
            "Saving Default.csv to Default.csv\n"
          ]
        }
      ]
    },
    {
      "cell_type": "code",
      "metadata": {
        "colab": {
          "base_uri": "https://localhost:8080/",
          "height": 205
        },
        "id": "Tb8Adr860las",
        "outputId": "99f51997-ad3e-4aca-e7c7-283a070010df"
      },
      "source": [
        "# Print the first 5 entries of the dataframe\n",
        "df.head()"
      ],
      "execution_count": 5,
      "outputs": [
        {
          "output_type": "execute_result",
          "data": {
            "text/html": [
              "<div>\n",
              "<style scoped>\n",
              "    .dataframe tbody tr th:only-of-type {\n",
              "        vertical-align: middle;\n",
              "    }\n",
              "\n",
              "    .dataframe tbody tr th {\n",
              "        vertical-align: top;\n",
              "    }\n",
              "\n",
              "    .dataframe thead th {\n",
              "        text-align: right;\n",
              "    }\n",
              "</style>\n",
              "<table border=\"1\" class=\"dataframe\">\n",
              "  <thead>\n",
              "    <tr style=\"text-align: right;\">\n",
              "      <th></th>\n",
              "      <th>Unnamed: 0</th>\n",
              "      <th>default</th>\n",
              "      <th>student</th>\n",
              "      <th>balance</th>\n",
              "      <th>income</th>\n",
              "    </tr>\n",
              "  </thead>\n",
              "  <tbody>\n",
              "    <tr>\n",
              "      <th>0</th>\n",
              "      <td>1</td>\n",
              "      <td>No</td>\n",
              "      <td>No</td>\n",
              "      <td>729.53</td>\n",
              "      <td>44,361.63</td>\n",
              "    </tr>\n",
              "    <tr>\n",
              "      <th>1</th>\n",
              "      <td>2</td>\n",
              "      <td>No</td>\n",
              "      <td>Yes</td>\n",
              "      <td>817.18</td>\n",
              "      <td>12,106.13</td>\n",
              "    </tr>\n",
              "    <tr>\n",
              "      <th>2</th>\n",
              "      <td>3</td>\n",
              "      <td>No</td>\n",
              "      <td>No</td>\n",
              "      <td>1,073.55</td>\n",
              "      <td>31,767.14</td>\n",
              "    </tr>\n",
              "    <tr>\n",
              "      <th>3</th>\n",
              "      <td>4</td>\n",
              "      <td>No</td>\n",
              "      <td>No</td>\n",
              "      <td>529.25</td>\n",
              "      <td>35,704.49</td>\n",
              "    </tr>\n",
              "    <tr>\n",
              "      <th>4</th>\n",
              "      <td>5</td>\n",
              "      <td>No</td>\n",
              "      <td>No</td>\n",
              "      <td>785.66</td>\n",
              "      <td>38,463.50</td>\n",
              "    </tr>\n",
              "  </tbody>\n",
              "</table>\n",
              "</div>"
            ],
            "text/plain": [
              "   Unnamed: 0 default student  balance    income\n",
              "0           1      No      No   729.53 44,361.63\n",
              "1           2      No     Yes   817.18 12,106.13\n",
              "2           3      No      No 1,073.55 31,767.14\n",
              "3           4      No      No   529.25 35,704.49\n",
              "4           5      No      No   785.66 38,463.50"
            ]
          },
          "metadata": {},
          "execution_count": 5
        }
      ]
    },
    {
      "cell_type": "code",
      "metadata": {
        "colab": {
          "base_uri": "https://localhost:8080/",
          "height": 205
        },
        "id": "4tc-fYiNz8rz",
        "outputId": "dd35e897-7a92-4f67-f9ea-b0ddd5a4b415"
      },
      "source": [
        "# Drop the column Unnamed:0 as it is just the index\n",
        "df.drop(columns = ['Unnamed: 0'], inplace=True)\n",
        "df.head()"
      ],
      "execution_count": 6,
      "outputs": [
        {
          "output_type": "execute_result",
          "data": {
            "text/html": [
              "<div>\n",
              "<style scoped>\n",
              "    .dataframe tbody tr th:only-of-type {\n",
              "        vertical-align: middle;\n",
              "    }\n",
              "\n",
              "    .dataframe tbody tr th {\n",
              "        vertical-align: top;\n",
              "    }\n",
              "\n",
              "    .dataframe thead th {\n",
              "        text-align: right;\n",
              "    }\n",
              "</style>\n",
              "<table border=\"1\" class=\"dataframe\">\n",
              "  <thead>\n",
              "    <tr style=\"text-align: right;\">\n",
              "      <th></th>\n",
              "      <th>default</th>\n",
              "      <th>student</th>\n",
              "      <th>balance</th>\n",
              "      <th>income</th>\n",
              "    </tr>\n",
              "  </thead>\n",
              "  <tbody>\n",
              "    <tr>\n",
              "      <th>0</th>\n",
              "      <td>No</td>\n",
              "      <td>No</td>\n",
              "      <td>729.53</td>\n",
              "      <td>44,361.63</td>\n",
              "    </tr>\n",
              "    <tr>\n",
              "      <th>1</th>\n",
              "      <td>No</td>\n",
              "      <td>Yes</td>\n",
              "      <td>817.18</td>\n",
              "      <td>12,106.13</td>\n",
              "    </tr>\n",
              "    <tr>\n",
              "      <th>2</th>\n",
              "      <td>No</td>\n",
              "      <td>No</td>\n",
              "      <td>1,073.55</td>\n",
              "      <td>31,767.14</td>\n",
              "    </tr>\n",
              "    <tr>\n",
              "      <th>3</th>\n",
              "      <td>No</td>\n",
              "      <td>No</td>\n",
              "      <td>529.25</td>\n",
              "      <td>35,704.49</td>\n",
              "    </tr>\n",
              "    <tr>\n",
              "      <th>4</th>\n",
              "      <td>No</td>\n",
              "      <td>No</td>\n",
              "      <td>785.66</td>\n",
              "      <td>38,463.50</td>\n",
              "    </tr>\n",
              "  </tbody>\n",
              "</table>\n",
              "</div>"
            ],
            "text/plain": [
              "  default student  balance    income\n",
              "0      No      No   729.53 44,361.63\n",
              "1      No     Yes   817.18 12,106.13\n",
              "2      No      No 1,073.55 31,767.14\n",
              "3      No      No   529.25 35,704.49\n",
              "4      No      No   785.66 38,463.50"
            ]
          },
          "metadata": {},
          "execution_count": 6
        }
      ]
    },
    {
      "cell_type": "code",
      "metadata": {
        "id": "oxuMgWuU0WNP"
      },
      "source": [
        "# Define a dictionary to convert the Yes/No entries into numerical values\n",
        "encoding_dict = {'Yes': 1, 'No': 0}"
      ],
      "execution_count": 7,
      "outputs": []
    },
    {
      "cell_type": "code",
      "metadata": {
        "id": "3Oe3BV9w2tF2"
      },
      "source": [
        "# Encode the Yes/No features\n",
        "df['default'] = df['default'].map(encoding_dict)\n",
        "df['student'] = df['student'].map(encoding_dict)"
      ],
      "execution_count": 8,
      "outputs": []
    },
    {
      "cell_type": "code",
      "metadata": {
        "colab": {
          "base_uri": "https://localhost:8080/",
          "height": 205
        },
        "id": "KpRYS1rt3F85",
        "outputId": "f702c627-61f7-42b7-b792-15ab4baf7768"
      },
      "source": [
        "df.head()"
      ],
      "execution_count": 9,
      "outputs": [
        {
          "output_type": "execute_result",
          "data": {
            "text/html": [
              "<div>\n",
              "<style scoped>\n",
              "    .dataframe tbody tr th:only-of-type {\n",
              "        vertical-align: middle;\n",
              "    }\n",
              "\n",
              "    .dataframe tbody tr th {\n",
              "        vertical-align: top;\n",
              "    }\n",
              "\n",
              "    .dataframe thead th {\n",
              "        text-align: right;\n",
              "    }\n",
              "</style>\n",
              "<table border=\"1\" class=\"dataframe\">\n",
              "  <thead>\n",
              "    <tr style=\"text-align: right;\">\n",
              "      <th></th>\n",
              "      <th>default</th>\n",
              "      <th>student</th>\n",
              "      <th>balance</th>\n",
              "      <th>income</th>\n",
              "    </tr>\n",
              "  </thead>\n",
              "  <tbody>\n",
              "    <tr>\n",
              "      <th>0</th>\n",
              "      <td>0</td>\n",
              "      <td>0</td>\n",
              "      <td>729.53</td>\n",
              "      <td>44,361.63</td>\n",
              "    </tr>\n",
              "    <tr>\n",
              "      <th>1</th>\n",
              "      <td>0</td>\n",
              "      <td>1</td>\n",
              "      <td>817.18</td>\n",
              "      <td>12,106.13</td>\n",
              "    </tr>\n",
              "    <tr>\n",
              "      <th>2</th>\n",
              "      <td>0</td>\n",
              "      <td>0</td>\n",
              "      <td>1,073.55</td>\n",
              "      <td>31,767.14</td>\n",
              "    </tr>\n",
              "    <tr>\n",
              "      <th>3</th>\n",
              "      <td>0</td>\n",
              "      <td>0</td>\n",
              "      <td>529.25</td>\n",
              "      <td>35,704.49</td>\n",
              "    </tr>\n",
              "    <tr>\n",
              "      <th>4</th>\n",
              "      <td>0</td>\n",
              "      <td>0</td>\n",
              "      <td>785.66</td>\n",
              "      <td>38,463.50</td>\n",
              "    </tr>\n",
              "  </tbody>\n",
              "</table>\n",
              "</div>"
            ],
            "text/plain": [
              "   default  student  balance    income\n",
              "0        0        0   729.53 44,361.63\n",
              "1        0        1   817.18 12,106.13\n",
              "2        0        0 1,073.55 31,767.14\n",
              "3        0        0   529.25 35,704.49\n",
              "4        0        0   785.66 38,463.50"
            ]
          },
          "metadata": {},
          "execution_count": 9
        }
      ]
    },
    {
      "cell_type": "markdown",
      "metadata": {
        "id": "J8X23NROtAYl"
      },
      "source": [
        "Let's observe the percentage of people in the data set have defaulted on a loan."
      ]
    },
    {
      "cell_type": "code",
      "metadata": {
        "colab": {
          "base_uri": "https://localhost:8080/"
        },
        "id": "ikhZxmVL3vom",
        "outputId": "bd092cd8-8e4f-42fe-a43d-79d53ce75726"
      },
      "source": [
        "df.describe()\n",
        "df['default'].value_counts(normalize = True)"
      ],
      "execution_count": 10,
      "outputs": [
        {
          "output_type": "execute_result",
          "data": {
            "text/plain": [
              "0   0.97\n",
              "1   0.03\n",
              "Name: default, dtype: float64"
            ]
          },
          "metadata": {},
          "execution_count": 10
        }
      ]
    },
    {
      "cell_type": "markdown",
      "metadata": {
        "id": "BBEUxihULiE5"
      },
      "source": [
        "Only about **3%** of borrowers in the data set have defaulted on a loan. Let's look into the info on the dataframe."
      ]
    },
    {
      "cell_type": "code",
      "metadata": {
        "colab": {
          "base_uri": "https://localhost:8080/"
        },
        "id": "yKngLrSj4QEe",
        "outputId": "e1f947d2-6a6f-4058-eb86-e1f19569b54e"
      },
      "source": [
        "df.info()"
      ],
      "execution_count": 11,
      "outputs": [
        {
          "output_type": "stream",
          "name": "stdout",
          "text": [
            "<class 'pandas.core.frame.DataFrame'>\n",
            "RangeIndex: 10000 entries, 0 to 9999\n",
            "Data columns (total 4 columns):\n",
            " #   Column   Non-Null Count  Dtype  \n",
            "---  ------   --------------  -----  \n",
            " 0   default  10000 non-null  int64  \n",
            " 1   student  10000 non-null  int64  \n",
            " 2   balance  10000 non-null  float64\n",
            " 3   income   10000 non-null  float64\n",
            "dtypes: float64(2), int64(2)\n",
            "memory usage: 312.6 KB\n"
          ]
        }
      ]
    },
    {
      "cell_type": "markdown",
      "metadata": {
        "id": "420HoXPl3nyD"
      },
      "source": [
        "**Observations:**\n",
        "- There do not seem to be any missing values so we can jump right into the modeling."
      ]
    },
    {
      "cell_type": "markdown",
      "metadata": {
        "id": "NsWHuLDO3qp6"
      },
      "source": [
        "# Linear Discriminant Analysis"
      ]
    },
    {
      "cell_type": "code",
      "metadata": {
        "id": "LcM9eIzT3Wdf"
      },
      "source": [
        "# Import the sklearn LDA and QDA libraries\n",
        "from sklearn.discriminant_analysis import LinearDiscriminantAnalysis\n",
        "from sklearn.discriminant_analysis import QuadraticDiscriminantAnalysis\n"
      ],
      "execution_count": 12,
      "outputs": []
    },
    {
      "cell_type": "markdown",
      "metadata": {
        "id": "VWet7nODMVXw"
      },
      "source": [
        "Let's start by using individual features. Look at just the **balance** feature first."
      ]
    },
    {
      "cell_type": "code",
      "metadata": {
        "colab": {
          "base_uri": "https://localhost:8080/"
        },
        "id": "A_5IUa8j3jWw",
        "outputId": "ccb64933-18e2-482f-a534-385e6079f584"
      },
      "source": [
        "# Reduce the data frame into each of the given features\n",
        "balance = df.balance.values.reshape(len(df['balance']), 1)\n",
        "default = df.default.values.reshape(len(df['default']), 1)\n",
        "student = df.student.values.reshape(len(df['student']), 1)\n",
        "income = df.income.values.reshape(len(df['income']), 1)\n",
        "features = ['balance', 'student', 'income']\n",
        "\n",
        "# Fit an LDA model using only the balance feature\n",
        "lda = LinearDiscriminantAnalysis()\n",
        "lda.fit(balance, df['default'])\n",
        "lda_error_rate = (1 - lda.score(balance, default))*100\n",
        "\n",
        "# Fit a QDA model using only the balance feature\n",
        "qda = QuadraticDiscriminantAnalysis()\n",
        "qda.fit(balance, df['default'])\n",
        "qda_error_rate = (1 - qda.score(balance, default))*100\n",
        "\n",
        "print(\"LDA error rate while using only balance as a feature is {}% \".format(np.round(lda_error_rate,2)))\n",
        "print(\"QDA error rate while using only balance as a feature is {}%\".format(np.round(qda_error_rate,2)))"
      ],
      "execution_count": 14,
      "outputs": [
        {
          "output_type": "stream",
          "name": "stdout",
          "text": [
            "LDA error rate while using only balance as a feature is 2.81% \n",
            "QDA error rate while using only balance as a feature is 2.74%\n"
          ]
        }
      ]
    },
    {
      "cell_type": "markdown",
      "metadata": {
        "id": "M-iFXB6cMmZN"
      },
      "source": [
        "Now let's observe what happens when we use all of the features."
      ]
    },
    {
      "cell_type": "code",
      "metadata": {
        "id": "svf92ES1tAYo",
        "colab": {
          "base_uri": "https://localhost:8080/"
        },
        "outputId": "f4a7a0ab-3066-45a7-a45b-60094470edf6"
      },
      "source": [
        "# Fit the LDA and QDA models using all features\n",
        "lda.fit(df[features], df['default'])\n",
        "qda.fit(df[features], df['default'])\n",
        "\n",
        "new_lda_error_rate = (1 - lda.score(df[features], df['default']))*100\n",
        "new_qda_error_rate = (1 - qda.score(df[features], df['default']))*100\n",
        "\n",
        "print(\"LDA error rate using all the features is {}% \".format(np.round(new_lda_error_rate,2)))\n",
        "print(\"QDA error rate using all the features is {}%\".format(np.round(new_qda_error_rate,2)))"
      ],
      "execution_count": 15,
      "outputs": [
        {
          "output_type": "stream",
          "name": "stdout",
          "text": [
            "LDA error rate using all the features is 2.76% \n",
            "QDA error rate using all the features is 2.7%\n"
          ]
        }
      ]
    },
    {
      "cell_type": "markdown",
      "metadata": {
        "id": "9-2PJYLQtAYo"
      },
      "source": [
        "**Observations:**\n",
        "- We can see that by using all of the features to predict default, the error rate has reduced slightly."
      ]
    },
    {
      "cell_type": "markdown",
      "metadata": {
        "id": "kmznB6eDpW28"
      },
      "source": [
        "## Logistic Regression"
      ]
    },
    {
      "cell_type": "markdown",
      "metadata": {
        "id": "BUz9GE0tNKrC"
      },
      "source": [
        "Now let's explore Logistic regression models.  We will start again by fitting the model while only using the balance feature."
      ]
    },
    {
      "cell_type": "code",
      "metadata": {
        "id": "yBsUkfvLjb-0"
      },
      "source": [
        "# Import the logistic regression library\n",
        "from sklearn.linear_model import LogisticRegression"
      ],
      "execution_count": 16,
      "outputs": []
    },
    {
      "cell_type": "code",
      "metadata": {
        "colab": {
          "base_uri": "https://localhost:8080/"
        },
        "id": "S-02fodUpsL8",
        "outputId": "b0927224-c92e-4e9f-8254-9154dfc4c0b5"
      },
      "source": [
        "# Initialize a logistic regression model and fit the model using balance as the only feature.\n",
        "lr = LogisticRegression(penalty='none', max_iter=100)\n",
        "lr.fit(balance, df['default'])\n",
        "lr_error_rate = (1 - lr.score(balance, df['default']))*100\n",
        "\n",
        "print(\"Logistic Regression error rate using balance feature is {}% \".format(np.round(lr_error_rate,2)))"
      ],
      "execution_count": 17,
      "outputs": [
        {
          "output_type": "stream",
          "name": "stdout",
          "text": [
            "Logistic Regression error rate using balance feature is 2.75% \n"
          ]
        }
      ]
    },
    {
      "cell_type": "code",
      "metadata": {
        "colab": {
          "base_uri": "https://localhost:8080/"
        },
        "id": "VhrT2dL92k3F",
        "outputId": "d6c50ac9-2f2b-4ac7-cdd2-8415dd903492"
      },
      "source": [
        "lr.get_params"
      ],
      "execution_count": 18,
      "outputs": [
        {
          "output_type": "execute_result",
          "data": {
            "text/plain": [
              "<bound method BaseEstimator.get_params of LogisticRegression(C=1.0, class_weight=None, dual=False, fit_intercept=True,\n",
              "                   intercept_scaling=1, l1_ratio=None, max_iter=100,\n",
              "                   multi_class='auto', n_jobs=None, penalty='none',\n",
              "                   random_state=None, solver='lbfgs', tol=0.0001, verbose=0,\n",
              "                   warm_start=False)>"
            ]
          },
          "metadata": {},
          "execution_count": 18
        }
      ]
    },
    {
      "cell_type": "markdown",
      "metadata": {
        "id": "IcwEoGgGNeDe"
      },
      "source": [
        "Now let's fit the logistic regression model using all features.  We will also experiment with Lasso regularization."
      ]
    },
    {
      "cell_type": "code",
      "metadata": {
        "colab": {
          "base_uri": "https://localhost:8080/"
        },
        "id": "M-s3pCM5qHjI",
        "outputId": "36c07ccb-911f-4afe-b356-609b05968bc4"
      },
      "source": [
        "# Initialize and fit the logistic model using all features\n",
        "lrm = LogisticRegression(penalty='none')\n",
        "lrm.fit(df[features], df['default'])\n",
        "lr_error_rate = (1 - lrm.score(df[features], df['default']))*100\n",
        "\n",
        "# Initialize and fit the logistic model using lasso regularization\n",
        "lrm_r = LogisticRegression(penalty='l1', solver = 'liblinear')\n",
        "lrm_r.fit(df[features], df['default'])\n",
        "lrm_r_error_rate = (1 - lrm_r.score(df[features], df['default']))*100\n",
        "\n",
        "print(\"Logistic Regression error rate using all the features is {}% \".format(np.round(lr_error_rate,2)))\n",
        "print(\"Logistic Regression error rate using absolute value (Lasso) regularization is {}% \".format(np.round(lrm_r_error_rate,2)))"
      ],
      "execution_count": 19,
      "outputs": [
        {
          "output_type": "stream",
          "name": "stdout",
          "text": [
            "Logistic Regression error rate using all the features is 3.28% \n",
            "Logistic Regression error rate using absolute value (Lasso) regularization is 2.66% \n"
          ]
        }
      ]
    },
    {
      "cell_type": "markdown",
      "metadata": {
        "id": "-k_pZOt02uwz"
      },
      "source": [
        "**Observations:**\n",
        "- We calculated the error rates for LDA, QDA and Logistic Regression.\n",
        "- The hyperparameter 'multi_class' handles the multiclass classification."
      ]
    },
    {
      "cell_type": "markdown",
      "metadata": {
        "id": "Qjz9j5c_5NHg"
      },
      "source": [
        "## K-Nearest Neighbors (kNN)\n",
        "\n",
        "To evaluate the model and to evaluate how well it performs on unseen data, we can take a validation set and check the performance of the model as we have seen in other projects. Now let's move to kNN, where we can evaluate the performance against the validation set."
      ]
    },
    {
      "cell_type": "code",
      "metadata": {
        "id": "kqWdEg5Lq9Lo"
      },
      "source": [
        "from sklearn.neighbors import KNeighborsClassifier\n",
        "from sklearn.model_selection import train_test_split\n",
        "\n",
        "# Import library used to scale features\n",
        "from sklearn.preprocessing import StandardScaler\n",
        "# Initialize our scaler\n",
        "ss = StandardScaler()"
      ],
      "execution_count": 21,
      "outputs": []
    },
    {
      "cell_type": "markdown",
      "metadata": {
        "id": "GIBvWMnGJLBg"
      },
      "source": [
        "**NOTE**: The following code might take few minutes to run depending on the system's configuration\n",
        "\n",
        "We will select the best value of **k** for which the error rate is the least in the validation data."
      ]
    },
    {
      "cell_type": "code",
      "metadata": {
        "colab": {
          "base_uri": "https://localhost:8080/"
        },
        "id": "Uw1Sbdp87raA",
        "outputId": "68597bf1-42d2-4617-b130-2c459ef14271"
      },
      "source": [
        "# Loop over a few values of the k to determine the best k \n",
        "\n",
        "train_error = []\n",
        "test_error = []\n",
        "knn_many_split = {}\n",
        "\n",
        "error_df_knn = pd.DataFrame()\n",
        "\n",
        "# Loop over different values of k to determine the best value of k\n",
        "for k in range(1,16):\n",
        "    train_error = []\n",
        "    test_error = []\n",
        "    lista = []\n",
        "    # Obtain the knn classifier for the current value of k\n",
        "    knn = KNeighborsClassifier(n_neighbors=k)\n",
        "    #print(k)\n",
        "    for i in range(100):\n",
        "        # Obtain the training and testing data\n",
        "        x_train, x_test, y_train, y_test = train_test_split(df[features], df['default'], test_size = 0.20)\n",
        "        # Scale the training data using fit and transform\n",
        "        x_train = ss.fit_transform(x_train)\n",
        "        # Scale the testing data using transform\n",
        "        x_test = ss.transform(x_test)\n",
        "        # Fit the knn classifier to the training data\n",
        "        knn.fit(x_train, y_train)\n",
        "        # Obtain the training and testing errors and append them to the appropriate lists\n",
        "        train_error.append(1 - knn.score(x_train, y_train)) \n",
        "        test_error.append(1 - knn.score(x_test, y_test))\n",
        "    # Obtain the average error across the training and testing data lists\n",
        "    lista.append(sum(train_error)/len(train_error))\n",
        "    lista.append(sum(test_error)/len(test_error))\n",
        "    # Store these values into a list\n",
        "    knn_many_split[k] = lista\n",
        "    #print(knn_many_split[k])\n",
        "\n",
        "# Print the list created\n",
        "knn_many_split"
      ],
      "execution_count": 24,
      "outputs": [
        {
          "output_type": "execute_result",
          "data": {
            "text/plain": [
              "{1: [0.0, 0.04226999999999999],\n",
              " 2: [0.021640000000000013, 0.0337],\n",
              " 3: [0.022281250000000016, 0.03305500000000001],\n",
              " 4: [0.02481374999999998, 0.030539999999999998],\n",
              " 5: [0.024949999999999993, 0.030459999999999984],\n",
              " 6: [0.025494999999999986, 0.028740000000000005],\n",
              " 7: [0.024998750000000007, 0.028679999999999987],\n",
              " 8: [0.02561750000000001, 0.028385000000000014],\n",
              " 9: [0.025523749999999987, 0.028575000000000007],\n",
              " 10: [0.025996250000000005, 0.02825499999999998],\n",
              " 11: [0.026050000000000014, 0.02734],\n",
              " 12: [0.026378750000000003, 0.027764999999999995],\n",
              " 13: [0.026016249999999998, 0.027909999999999994],\n",
              " 14: [0.026497500000000018, 0.027960000000000002],\n",
              " 15: [0.026241250000000004, 0.027694999999999994]}"
            ]
          },
          "metadata": {},
          "execution_count": 24
        }
      ]
    },
    {
      "cell_type": "code",
      "metadata": {
        "id": "dO7vrLHZNdjJ"
      },
      "source": [
        "# Extract k, the training error, and the testing error into lists for easy plotting\n",
        "kl = []\n",
        "vl = []\n",
        "v2 = []\n",
        "for k, v in knn_many_split.items():\n",
        "    kl.append(k)\n",
        "    vl.append(knn_many_split[k][1])\n",
        "    v2.append(knn_many_split[k][0])"
      ],
      "execution_count": 25,
      "outputs": []
    },
    {
      "cell_type": "code",
      "metadata": {
        "colab": {
          "base_uri": "https://localhost:8080/",
          "height": 497
        },
        "id": "kSBseeJ99yDg",
        "outputId": "c2d51c43-c03a-45a3-eeda-31e8f274f8ca"
      },
      "source": [
        "# Plot k vs training and testing error\n",
        "plt.figure(figsize=(8,8))\n",
        "plt.xlabel(\"Number of neighbors (k)\")\n",
        "plt.ylabel(\"Error\")\n",
        "plt.plot(kl,vl, label = 'Test Error')\n",
        "plt.plot(kl, v2, label = 'Train Error')\n",
        "plt.legend()\n",
        "plt.show()"
      ],
      "execution_count": 26,
      "outputs": [
        {
          "output_type": "display_data",
          "data": {
            "image/png": "[encoded data removed]",
            "text/plain": [
              "<Figure size 576x576 with 1 Axes>"
            ]
          },
          "metadata": {}
        }
      ]
    },
    {
      "cell_type": "markdown",
      "metadata": {
        "id": "LLGPgfyEtAYt"
      },
      "source": [
        "**Observations**: \n",
        "- From this graph, we can see that k=15 gives us the best results for generalized training & testing error."
      ]
    }
  ]
}