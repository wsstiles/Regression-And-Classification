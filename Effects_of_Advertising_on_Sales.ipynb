{
  "nbformat": 4,
  "nbformat_minor": 0,
  "metadata": {
    "colab": {
      "name": "Effects_of_Advertising_on_Sales.ipynb",
      "provenance": [],
      "collapsed_sections": []
    },
    "kernelspec": {
      "display_name": "Python 3",
      "language": "python",
      "name": "python3"
    },
    "language_info": {
      "codemirror_mode": {
        "name": "ipython",
        "version": 3
      },
      "file_extension": ".py",
      "mimetype": "text/x-python",
      "name": "python",
      "nbconvert_exporter": "python",
      "pygments_lexer": "ipython3",
      "version": "3.8.3"
    }
  },
  "cells": [
    {
      "cell_type": "markdown",
      "metadata": {
        "id": "mM7KaMsIyx5q"
      },
      "source": [
        "# Supervised Learning Regression: Effects of Advertising on Sales\n",
        "\n",
        "## Context and Problem\n",
        "\n",
        "- An interesting application of regression is to quantify the effect of advertisement on sales. Various channels of advertisement are newspaper, TV, radio, etc. \n",
        "- In this project, we will look at the advertising data of a company and try to observe its effect on sales.\n",
        "- We will also try to predict the sales given the different parameters of advertising. \n",
        "\n",
        "\n",
        "## Data Information\n",
        "\n",
        "The data at hand has three features about the spending on advertising and the target variable is the net sales. Attributes are:\n",
        "\n",
        "- TV    - Independent variable quantifying budget for TV ads\n",
        "- Radio - Independent variable quantifying budget for radio ads \n",
        "- News  - Independent variable quantifying budget for news ads\n",
        "- Sales - Dependent variable"
      ]
    },
    {
      "cell_type": "markdown",
      "metadata": {
        "id": "rzjQEUms29nL"
      },
      "source": [
        "### Begin by importing necessary packages"
      ]
    },
    {
      "cell_type": "code",
      "metadata": {
        "id": "Mbek6djw26sQ"
      },
      "source": [
        "import pandas as pd\n",
        "import numpy as np\n",
        "import numpy as np\n",
        "from sklearn import linear_model\n",
        "import matplotlib.pyplot as plt"
      ],
      "execution_count": 6,
      "outputs": []
    },
    {
      "cell_type": "code",
      "metadata": {
        "colab": {
          "resources": {
            "http://localhost:8080/nbextensions/google.colab/files.js": {
              "data": "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",
              "ok": true,
              "headers": [
                [
                  "content-type",
                  "application/javascript"
                ]
              ],
              "status": 200,
              "status_text": ""
            }
          },
          "base_uri": "https://localhost:8080/",
          "height": 73
        },
        "id": "eujy4X4H5Vgp",
        "outputId": "a7dd71d6-2334-493e-b604-4ffd7060251f"
      },
      "source": [
        "# The following code is applicable only if you are working on Google Colab\n",
        "# Import files and request user to upload the data file\n",
        "from google.colab import files\n",
        "uploaded = files.upload()\n",
        "\n",
        "# In case you are using Jupyter Notebook, you can directly use pd.read_csv(filename) to load data into dataframe"
      ],
      "execution_count": 7,
      "outputs": [
        {
          "output_type": "display_data",
          "data": {
            "text/html": [
              "\n",
              "     <input type=\"file\" id=\"files-4b98c4b4-9a37-4397-aea3-0ad88bd7f341\" name=\"files[]\" multiple disabled\n",
              "        style=\"border:none\" />\n",
              "     <output id=\"result-4b98c4b4-9a37-4397-aea3-0ad88bd7f341\">\n",
              "      Upload widget is only available when the cell has been executed in the\n",
              "      current browser session. Please rerun this cell to enable.\n",
              "      </output>\n",
              "      <script src=\"/nbextensions/google.colab/files.js\"></script> "
            ],
            "text/plain": [
              "<IPython.core.display.HTML object>"
            ]
          },
          "metadata": {}
        },
        {
          "output_type": "stream",
          "name": "stdout",
          "text": [
            "Saving Advertising.csv to Advertising (1).csv\n"
          ]
        }
      ]
    },
    {
      "cell_type": "code",
      "metadata": {
        "colab": {
          "base_uri": "https://localhost:8080/",
          "height": 205
        },
        "id": "qIbGMZS36De1",
        "outputId": "2fedc64f-aea1-42a2-c063-046005be736a"
      },
      "source": [
        "# Read the data into a dataframe and display the first 5 entries\n",
        "Ad_df = pd.read_csv('Advertising.csv')\n",
        "Ad_df.head()"
      ],
      "execution_count": 8,
      "outputs": [
        {
          "output_type": "execute_result",
          "data": {
            "text/html": [
              "<div>\n",
              "<style scoped>\n",
              "    .dataframe tbody tr th:only-of-type {\n",
              "        vertical-align: middle;\n",
              "    }\n",
              "\n",
              "    .dataframe tbody tr th {\n",
              "        vertical-align: top;\n",
              "    }\n",
              "\n",
              "    .dataframe thead th {\n",
              "        text-align: right;\n",
              "    }\n",
              "</style>\n",
              "<table border=\"1\" class=\"dataframe\">\n",
              "  <thead>\n",
              "    <tr style=\"text-align: right;\">\n",
              "      <th></th>\n",
              "      <th>Unnamed: 0</th>\n",
              "      <th>TV</th>\n",
              "      <th>Radio</th>\n",
              "      <th>Newspaper</th>\n",
              "      <th>Sales</th>\n",
              "    </tr>\n",
              "  </thead>\n",
              "  <tbody>\n",
              "    <tr>\n",
              "      <th>0</th>\n",
              "      <td>1</td>\n",
              "      <td>230.1</td>\n",
              "      <td>37.8</td>\n",
              "      <td>69.2</td>\n",
              "      <td>22.1</td>\n",
              "    </tr>\n",
              "    <tr>\n",
              "      <th>1</th>\n",
              "      <td>2</td>\n",
              "      <td>44.5</td>\n",
              "      <td>39.3</td>\n",
              "      <td>45.1</td>\n",
              "      <td>10.4</td>\n",
              "    </tr>\n",
              "    <tr>\n",
              "      <th>2</th>\n",
              "      <td>3</td>\n",
              "      <td>17.2</td>\n",
              "      <td>45.9</td>\n",
              "      <td>69.3</td>\n",
              "      <td>9.3</td>\n",
              "    </tr>\n",
              "    <tr>\n",
              "      <th>3</th>\n",
              "      <td>4</td>\n",
              "      <td>151.5</td>\n",
              "      <td>41.3</td>\n",
              "      <td>58.5</td>\n",
              "      <td>18.5</td>\n",
              "    </tr>\n",
              "    <tr>\n",
              "      <th>4</th>\n",
              "      <td>5</td>\n",
              "      <td>180.8</td>\n",
              "      <td>10.8</td>\n",
              "      <td>58.4</td>\n",
              "      <td>12.9</td>\n",
              "    </tr>\n",
              "  </tbody>\n",
              "</table>\n",
              "</div>"
            ],
            "text/plain": [
              "   Unnamed: 0     TV  Radio  Newspaper  Sales\n",
              "0           1  230.1   37.8       69.2   22.1\n",
              "1           2   44.5   39.3       45.1   10.4\n",
              "2           3   17.2   45.9       69.3    9.3\n",
              "3           4  151.5   41.3       58.5   18.5\n",
              "4           5  180.8   10.8       58.4   12.9"
            ]
          },
          "metadata": {},
          "execution_count": 8
        }
      ]
    },
    {
      "cell_type": "code",
      "metadata": {
        "id": "dQD08slX6tVt",
        "colab": {
          "base_uri": "https://localhost:8080/",
          "height": 422
        },
        "outputId": "c11191a7-4122-4b87-c44c-c81af43233ac"
      },
      "source": [
        "# Drop the first column since it contains the index\n",
        "Ad_df.drop(columns = 'Unnamed: 0', inplace=True)\n",
        "# Print the dataframe\n",
        "Ad_df"
      ],
      "execution_count": 9,
      "outputs": [
        {
          "output_type": "execute_result",
          "data": {
            "text/html": [
              "<div>\n",
              "<style scoped>\n",
              "    .dataframe tbody tr th:only-of-type {\n",
              "        vertical-align: middle;\n",
              "    }\n",
              "\n",
              "    .dataframe tbody tr th {\n",
              "        vertical-align: top;\n",
              "    }\n",
              "\n",
              "    .dataframe thead th {\n",
              "        text-align: right;\n",
              "    }\n",
              "</style>\n",
              "<table border=\"1\" class=\"dataframe\">\n",
              "  <thead>\n",
              "    <tr style=\"text-align: right;\">\n",
              "      <th></th>\n",
              "      <th>TV</th>\n",
              "      <th>Radio</th>\n",
              "      <th>Newspaper</th>\n",
              "      <th>Sales</th>\n",
              "    </tr>\n",
              "  </thead>\n",
              "  <tbody>\n",
              "    <tr>\n",
              "      <th>0</th>\n",
              "      <td>230.1</td>\n",
              "      <td>37.8</td>\n",
              "      <td>69.2</td>\n",
              "      <td>22.1</td>\n",
              "    </tr>\n",
              "    <tr>\n",
              "      <th>1</th>\n",
              "      <td>44.5</td>\n",
              "      <td>39.3</td>\n",
              "      <td>45.1</td>\n",
              "      <td>10.4</td>\n",
              "    </tr>\n",
              "    <tr>\n",
              "      <th>2</th>\n",
              "      <td>17.2</td>\n",
              "      <td>45.9</td>\n",
              "      <td>69.3</td>\n",
              "      <td>9.3</td>\n",
              "    </tr>\n",
              "    <tr>\n",
              "      <th>3</th>\n",
              "      <td>151.5</td>\n",
              "      <td>41.3</td>\n",
              "      <td>58.5</td>\n",
              "      <td>18.5</td>\n",
              "    </tr>\n",
              "    <tr>\n",
              "      <th>4</th>\n",
              "      <td>180.8</td>\n",
              "      <td>10.8</td>\n",
              "      <td>58.4</td>\n",
              "      <td>12.9</td>\n",
              "    </tr>\n",
              "    <tr>\n",
              "      <th>...</th>\n",
              "      <td>...</td>\n",
              "      <td>...</td>\n",
              "      <td>...</td>\n",
              "      <td>...</td>\n",
              "    </tr>\n",
              "    <tr>\n",
              "      <th>195</th>\n",
              "      <td>38.2</td>\n",
              "      <td>3.7</td>\n",
              "      <td>13.8</td>\n",
              "      <td>7.6</td>\n",
              "    </tr>\n",
              "    <tr>\n",
              "      <th>196</th>\n",
              "      <td>94.2</td>\n",
              "      <td>4.9</td>\n",
              "      <td>8.1</td>\n",
              "      <td>9.7</td>\n",
              "    </tr>\n",
              "    <tr>\n",
              "      <th>197</th>\n",
              "      <td>177.0</td>\n",
              "      <td>9.3</td>\n",
              "      <td>6.4</td>\n",
              "      <td>12.8</td>\n",
              "    </tr>\n",
              "    <tr>\n",
              "      <th>198</th>\n",
              "      <td>283.6</td>\n",
              "      <td>42.0</td>\n",
              "      <td>66.2</td>\n",
              "      <td>25.5</td>\n",
              "    </tr>\n",
              "    <tr>\n",
              "      <th>199</th>\n",
              "      <td>232.1</td>\n",
              "      <td>8.6</td>\n",
              "      <td>8.7</td>\n",
              "      <td>13.4</td>\n",
              "    </tr>\n",
              "  </tbody>\n",
              "</table>\n",
              "<p>200 rows × 4 columns</p>\n",
              "</div>"
            ],
            "text/plain": [
              "        TV  Radio  Newspaper  Sales\n",
              "0    230.1   37.8       69.2   22.1\n",
              "1     44.5   39.3       45.1   10.4\n",
              "2     17.2   45.9       69.3    9.3\n",
              "3    151.5   41.3       58.5   18.5\n",
              "4    180.8   10.8       58.4   12.9\n",
              "..     ...    ...        ...    ...\n",
              "195   38.2    3.7       13.8    7.6\n",
              "196   94.2    4.9        8.1    9.7\n",
              "197  177.0    9.3        6.4   12.8\n",
              "198  283.6   42.0       66.2   25.5\n",
              "199  232.1    8.6        8.7   13.4\n",
              "\n",
              "[200 rows x 4 columns]"
            ]
          },
          "metadata": {},
          "execution_count": 9
        }
      ]
    },
    {
      "cell_type": "code",
      "metadata": {
        "colab": {
          "base_uri": "https://localhost:8080/"
        },
        "id": "lPtSvD8T-ALA",
        "outputId": "53d423b1-b366-4c34-8d18-61dbe5dcc5e2"
      },
      "source": [
        "Ad_df.info()"
      ],
      "execution_count": 10,
      "outputs": [
        {
          "output_type": "stream",
          "name": "stdout",
          "text": [
            "<class 'pandas.core.frame.DataFrame'>\n",
            "RangeIndex: 200 entries, 0 to 199\n",
            "Data columns (total 4 columns):\n",
            " #   Column     Non-Null Count  Dtype  \n",
            "---  ------     --------------  -----  \n",
            " 0   TV         200 non-null    float64\n",
            " 1   Radio      200 non-null    float64\n",
            " 2   Newspaper  200 non-null    float64\n",
            " 3   Sales      200 non-null    float64\n",
            "dtypes: float64(4)\n",
            "memory usage: 6.4 KB\n"
          ]
        }
      ]
    },
    {
      "cell_type": "markdown",
      "metadata": {
        "id": "TtclE25ghs4f"
      },
      "source": [
        "**Observations:** All variables are floating point data type."
      ]
    },
    {
      "cell_type": "markdown",
      "metadata": {
        "id": "vdPHnnpw_9oV"
      },
      "source": [
        "### We will begin with a simple linear regression model. We will use one feature at a time, and observe the target variable. "
      ]
    },
    {
      "cell_type": "code",
      "metadata": {
        "id": "q4UTFBGd9_Dr"
      },
      "source": [
        "# Store all the variables into their own numpy array\n",
        "Sales = Ad_df.Sales.values.reshape(len(Ad_df['Sales']), 1)\n",
        "TV = Ad_df.TV.values.reshape(len(Ad_df['Sales']), 1)\n",
        "Radio = Ad_df.Radio.values.reshape(len(Ad_df['Sales']), 1)\n",
        "Newspaper = Ad_df.Newspaper.values.reshape(len(Ad_df['Sales']), 1)"
      ],
      "execution_count": 11,
      "outputs": []
    },
    {
      "cell_type": "code",
      "metadata": {
        "colab": {
          "base_uri": "https://localhost:8080/",
          "height": 112
        },
        "id": "Q4CKboT-CBgP",
        "outputId": "ad2a9358-3c54-4ea1-dc12-e662118eefed"
      },
      "source": [
        "# Fit the simple linear regression model with the TV feature\n",
        "tv_model = linear_model.LinearRegression()\n",
        "tv_model.fit(TV, Sales)\n",
        "coeffs_tv = np.array(list(tv_model.intercept_.flatten()) + list(tv_model.coef_.flatten()))\n",
        "coeffs_tv = list(coeffs_tv)\n",
        "\n",
        "# Fit the simple linear regression model with the Radio feature\n",
        "radio_model = linear_model.LinearRegression()\n",
        "radio_model.fit(Radio, Sales)\n",
        "coeffs_radio = np.array(list(radio_model.intercept_.flatten()) + list(radio_model.coef_.flatten()))\n",
        "coeffs_radio = list(coeffs_radio)\n",
        "\n",
        "# Fit the simple linear regression model with the Newspaper feature\n",
        "newspaper_model = linear_model.LinearRegression()\n",
        "newspaper_model.fit(Newspaper, Sales)\n",
        "coeffs_newspaper = np.array(list(newspaper_model.intercept_.flatten()) + list(newspaper_model.coef_.flatten()))\n",
        "coeffs_newspaper = list(coeffs_newspaper)\n",
        "\n",
        "# Wrap the results above in a dictionary\n",
        "dict_Sales = {}\n",
        "dict_Sales[\"TV\"] = coeffs_tv\n",
        "dict_Sales[\"Radio\"] = coeffs_radio\n",
        "dict_Sales[\"Newspaper\"] = coeffs_newspaper\n",
        "\n",
        "# Display the dictionary using a dataframe\n",
        "metric_Df_SLR = pd.DataFrame(dict_Sales)\n",
        "metric_Df_SLR.index = ['Intercept', 'Coefficient']\n",
        "metric_Df_SLR"
      ],
      "execution_count": 12,
      "outputs": [
        {
          "output_type": "execute_result",
          "data": {
            "text/html": [
              "<div>\n",
              "<style scoped>\n",
              "    .dataframe tbody tr th:only-of-type {\n",
              "        vertical-align: middle;\n",
              "    }\n",
              "\n",
              "    .dataframe tbody tr th {\n",
              "        vertical-align: top;\n",
              "    }\n",
              "\n",
              "    .dataframe thead th {\n",
              "        text-align: right;\n",
              "    }\n",
              "</style>\n",
              "<table border=\"1\" class=\"dataframe\">\n",
              "  <thead>\n",
              "    <tr style=\"text-align: right;\">\n",
              "      <th></th>\n",
              "      <th>TV</th>\n",
              "      <th>Radio</th>\n",
              "      <th>Newspaper</th>\n",
              "    </tr>\n",
              "  </thead>\n",
              "  <tbody>\n",
              "    <tr>\n",
              "      <th>Intercept</th>\n",
              "      <td>7.032594</td>\n",
              "      <td>9.311638</td>\n",
              "      <td>12.351407</td>\n",
              "    </tr>\n",
              "    <tr>\n",
              "      <th>Coefficient</th>\n",
              "      <td>0.047537</td>\n",
              "      <td>0.202496</td>\n",
              "      <td>0.054693</td>\n",
              "    </tr>\n",
              "  </tbody>\n",
              "</table>\n",
              "</div>"
            ],
            "text/plain": [
              "                   TV     Radio  Newspaper\n",
              "Intercept    7.032594  9.311638  12.351407\n",
              "Coefficient  0.047537  0.202496   0.054693"
            ]
          },
          "metadata": {},
          "execution_count": 12
        }
      ]
    },
    {
      "cell_type": "code",
      "metadata": {
        "colab": {
          "base_uri": "https://localhost:8080/"
        },
        "id": "IFjl_ZoW_njD",
        "outputId": "b35364d0-7267-41b8-8543-4400cc754c3a"
      },
      "source": [
        "# Calculate the R^2 value for each of the independent variables\n",
        "tv_rsq = tv_model.score(TV, Sales)\n",
        "radio_rsq = radio_model.score(Radio, Sales)\n",
        "newspaper_rsq = newspaper_model.score(Newspaper, Sales)\n",
        "\n",
        "# Display the R^2 results\n",
        "print(\"TV simple linear regression R-Square :\", tv_rsq)\n",
        "print(\"Radio simple linear regression R-Square :\", radio_rsq)\n",
        "print(\"Newspaper simple linear regression R-Square :\", newspaper_rsq)\n",
        "\n",
        "# Store the R^2 values into a list\n",
        "list_rsq = [tv_rsq, radio_rsq, newspaper_rsq]\n",
        "list_rsq"
      ],
      "execution_count": 13,
      "outputs": [
        {
          "output_type": "stream",
          "name": "stdout",
          "text": [
            "TV simple linear regression R-Square : 0.611875050850071\n",
            "Radio simple linear regression R-Square : 0.33203245544529525\n",
            "Newspaper simple linear regression R-Square : 0.05212044544430516\n"
          ]
        },
        {
          "output_type": "execute_result",
          "data": {
            "text/plain": [
              "[0.611875050850071, 0.33203245544529525, 0.05212044544430516]"
            ]
          },
          "metadata": {},
          "execution_count": 13
        }
      ]
    },
    {
      "cell_type": "code",
      "metadata": {
        "colab": {
          "base_uri": "https://localhost:8080/",
          "height": 143
        },
        "id": "jMAZXp21AGsB",
        "outputId": "67f9e448-97c5-46bd-886c-d25cef4d29c6"
      },
      "source": [
        "# Store the list of R^2 values into our dataframe\n",
        "metric_Df_SLR.loc['R-Squared'] = list_rsq\n",
        "metric_Df_SLR"
      ],
      "execution_count": 14,
      "outputs": [
        {
          "output_type": "execute_result",
          "data": {
            "text/html": [
              "<div>\n",
              "<style scoped>\n",
              "    .dataframe tbody tr th:only-of-type {\n",
              "        vertical-align: middle;\n",
              "    }\n",
              "\n",
              "    .dataframe tbody tr th {\n",
              "        vertical-align: top;\n",
              "    }\n",
              "\n",
              "    .dataframe thead th {\n",
              "        text-align: right;\n",
              "    }\n",
              "</style>\n",
              "<table border=\"1\" class=\"dataframe\">\n",
              "  <thead>\n",
              "    <tr style=\"text-align: right;\">\n",
              "      <th></th>\n",
              "      <th>TV</th>\n",
              "      <th>Radio</th>\n",
              "      <th>Newspaper</th>\n",
              "    </tr>\n",
              "  </thead>\n",
              "  <tbody>\n",
              "    <tr>\n",
              "      <th>Intercept</th>\n",
              "      <td>7.032594</td>\n",
              "      <td>9.311638</td>\n",
              "      <td>12.351407</td>\n",
              "    </tr>\n",
              "    <tr>\n",
              "      <th>Coefficient</th>\n",
              "      <td>0.047537</td>\n",
              "      <td>0.202496</td>\n",
              "      <td>0.054693</td>\n",
              "    </tr>\n",
              "    <tr>\n",
              "      <th>R-Squared</th>\n",
              "      <td>0.611875</td>\n",
              "      <td>0.332032</td>\n",
              "      <td>0.052120</td>\n",
              "    </tr>\n",
              "  </tbody>\n",
              "</table>\n",
              "</div>"
            ],
            "text/plain": [
              "                   TV     Radio  Newspaper\n",
              "Intercept    7.032594  9.311638  12.351407\n",
              "Coefficient  0.047537  0.202496   0.054693\n",
              "R-Squared    0.611875  0.332032   0.052120"
            ]
          },
          "metadata": {},
          "execution_count": 14
        }
      ]
    },
    {
      "cell_type": "markdown",
      "metadata": {
        "id": "Es84uRdJhs4i"
      },
      "source": [
        "**Observations:** We can see that TV has the highest R^2 value (**61%**) followed by Radio and then Newspaper."
      ]
    },
    {
      "cell_type": "markdown",
      "metadata": {
        "id": "6x63PBJxhs4i"
      },
      "source": [
        "Let's try to visualize the line or best fit using a regression plot."
      ]
    },
    {
      "cell_type": "code",
      "metadata": {
        "colab": {
          "base_uri": "https://localhost:8080/",
          "height": 803
        },
        "id": "_R45kkSNQxPx",
        "outputId": "e51ff3b6-31ab-452d-9e07-fd7a5e5097fc"
      },
      "source": [
        "# Create a regression plot for TV ads vs sales\n",
        "plt.scatter(TV, Sales,  color='red')\n",
        "plt.xlabel('TV Ads')\n",
        "plt.ylabel('Sales')\n",
        "plt.plot(TV, tv_model.predict(TV), color='blue', linewidth=3)\n",
        "plt.show()\n",
        "\n",
        "# Create a regression plot for Radio Ads vs sales\n",
        "plt.scatter(Radio, Sales,  color='red')\n",
        "plt.xlabel('Radio Ads')\n",
        "plt.ylabel('Sales')\n",
        "plt.plot(Radio, radio_model.predict(Radio), color='blue', linewidth=3)\n",
        "plt.show()\n",
        "\n",
        "# Create a regression plot for Newspaper ads vs sales\n",
        "plt.scatter(Newspaper, Sales,  color='red')\n",
        "plt.xlabel('Newspaper Ads')\n",
        "plt.ylabel('Sales')\n",
        "plt.plot(Newspaper, newspaper_model.predict(Newspaper), color='blue', linewidth=3)\n",
        "plt.show()\n"
      ],
      "execution_count": 15,
      "outputs": [
        {
          "output_type": "display_data",
          "data": {
            "image/png": "[encoded data removed]",
            "text/plain": [
              "<Figure size 432x288 with 1 Axes>"
            ]
          },
          "metadata": {
            "needs_background": "light"
          }
        },
        {
          "output_type": "display_data",
          "data": {
            "image/png": "[encoded data removed]",
            "text/plain": [
              "<Figure size 432x288 with 1 Axes>"
            ]
          },
          "metadata": {
            "needs_background": "light"
          }
        },
        {
          "output_type": "display_data",
          "data": {
            "image/png": "[encoded data removed]",
            "text/plain": [
              "<Figure size 432x288 with 1 Axes>"
            ]
          },
          "metadata": {
            "needs_background": "light"
          }
        }
      ]
    },
    {
      "cell_type": "markdown",
      "metadata": {
        "id": "QxiuPBWPQnKm"
      },
      "source": [
        "## Multiple Linear Regression\n",
        "\n",
        "Now that we have built and tested a simple linear regression model, we will now build a multiple linear regression model."
      ]
    },
    {
      "cell_type": "code",
      "metadata": {
        "colab": {
          "base_uri": "https://localhost:8080/"
        },
        "id": "p0XdOsasQ_uq",
        "outputId": "63818f2f-f1a3-4dea-c9e6-fe236dea1953"
      },
      "source": [
        "# Initialize a multiple linear regression model\n",
        "mlr_model = linear_model.LinearRegression()\n",
        "# Fit the model to the original dataframe\n",
        "mlr_model.fit(Ad_df[['TV', 'Radio', 'Newspaper']], Ad_df['Sales'])"
      ],
      "execution_count": 16,
      "outputs": [
        {
          "output_type": "execute_result",
          "data": {
            "text/plain": [
              "LinearRegression(copy_X=True, fit_intercept=True, n_jobs=None, normalize=False)"
            ]
          },
          "metadata": {},
          "execution_count": 16
        }
      ]
    },
    {
      "cell_type": "code",
      "metadata": {
        "id": "f45Fynt_WSIr"
      },
      "source": [
        "# Predict sales using the 3 independent variable columns\n",
        "Ad_df['Sales_Predicted'] = mlr_model.predict(Ad_df[['TV', 'Radio', 'Newspaper']])\n",
        "# Calculate the mean squared error between the predicted sales and actual sales\n",
        "Ad_df['Error'] = (Ad_df['Sales_Predicted'] - Ad_df['Sales'])**2\n",
        "MSE_MLR = Ad_df['Error'].mean()"
      ],
      "execution_count": 17,
      "outputs": []
    },
    {
      "cell_type": "code",
      "metadata": {
        "colab": {
          "base_uri": "https://localhost:8080/"
        },
        "id": "2IR7lKmrYCpl",
        "outputId": "b04d6355-c498-4134-b15b-cf0eca398afb"
      },
      "source": [
        "# Print the MSE\n",
        "MSE_MLR"
      ],
      "execution_count": 18,
      "outputs": [
        {
          "output_type": "execute_result",
          "data": {
            "text/plain": [
              "2.784126314510936"
            ]
          },
          "metadata": {},
          "execution_count": 18
        }
      ]
    },
    {
      "cell_type": "code",
      "metadata": {
        "colab": {
          "base_uri": "https://localhost:8080/"
        },
        "id": "yXJ6F7b5OqPI",
        "outputId": "b9cae268-5f5b-405d-bd2d-b22693bd2314"
      },
      "source": [
        "# Print the R^2 value\n",
        "mlr_model.score(Ad_df[['TV', 'Radio', 'Newspaper']], Ad_df['Sales'])"
      ],
      "execution_count": 20,
      "outputs": [
        {
          "output_type": "execute_result",
          "data": {
            "text/plain": [
              "0.8972106381789521"
            ]
          },
          "metadata": {},
          "execution_count": 20
        }
      ]
    },
    {
      "cell_type": "markdown",
      "metadata": {
        "id": "qsZJ-jimhs4k"
      },
      "source": [
        "**Observations:** The R^2 value for the multiple linear regression comes out to be ~89.7%, much better than what was achieved using simple linear regression."
      ]
    },
    {
      "cell_type": "markdown",
      "metadata": {
        "id": "UijVypbEhs4k"
      },
      "source": [
        "Now let's try to use **statsmodels** to get a more detailed model interpretation."
      ]
    },
    {
      "cell_type": "code",
      "metadata": {
        "colab": {
          "base_uri": "https://localhost:8080/",
          "height": 488
        },
        "id": "qjFCh7tkWf0M",
        "outputId": "941247b2-fc36-4c58-99e6-cf8317ba8544"
      },
      "source": [
        "# Obtain a more detailed model using the statsmodels library\n",
        "import statsmodels.formula.api as smf\n",
        "lm1 = smf.ols(formula= 'Sales ~ TV+Radio+Newspaper', data = Ad_df).fit()\n",
        "lm1.params\n",
        "lm1.summary()"
      ],
      "execution_count": 24,
      "outputs": [
        {
          "output_type": "execute_result",
          "data": {
            "text/html": [
              "<table class=\"simpletable\">\n",
              "<caption>OLS Regression Results</caption>\n",
              "<tr>\n",
              "  <th>Dep. Variable:</th>          <td>Sales</td>      <th>  R-squared:         </th> <td>   0.897</td>\n",
              "</tr>\n",
              "<tr>\n",
              "  <th>Model:</th>                   <td>OLS</td>       <th>  Adj. R-squared:    </th> <td>   0.896</td>\n",
              "</tr>\n",
              "<tr>\n",
              "  <th>Method:</th>             <td>Least Squares</td>  <th>  F-statistic:       </th> <td>   570.3</td>\n",
              "</tr>\n",
              "<tr>\n",
              "  <th>Date:</th>             <td>Mon, 11 Oct 2021</td> <th>  Prob (F-statistic):</th> <td>1.58e-96</td>\n",
              "</tr>\n",
              "<tr>\n",
              "  <th>Time:</th>                 <td>01:17:39</td>     <th>  Log-Likelihood:    </th> <td> -386.18</td>\n",
              "</tr>\n",
              "<tr>\n",
              "  <th>No. Observations:</th>      <td>   200</td>      <th>  AIC:               </th> <td>   780.4</td>\n",
              "</tr>\n",
              "<tr>\n",
              "  <th>Df Residuals:</th>          <td>   196</td>      <th>  BIC:               </th> <td>   793.6</td>\n",
              "</tr>\n",
              "<tr>\n",
              "  <th>Df Model:</th>              <td>     3</td>      <th>                     </th>     <td> </td>   \n",
              "</tr>\n",
              "<tr>\n",
              "  <th>Covariance Type:</th>      <td>nonrobust</td>    <th>                     </th>     <td> </td>   \n",
              "</tr>\n",
              "</table>\n",
              "<table class=\"simpletable\">\n",
              "<tr>\n",
              "      <td></td>         <th>coef</th>     <th>std err</th>      <th>t</th>      <th>P>|t|</th>  <th>[0.025</th>    <th>0.975]</th>  \n",
              "</tr>\n",
              "<tr>\n",
              "  <th>Intercept</th> <td>    2.9389</td> <td>    0.312</td> <td>    9.422</td> <td> 0.000</td> <td>    2.324</td> <td>    3.554</td>\n",
              "</tr>\n",
              "<tr>\n",
              "  <th>TV</th>        <td>    0.0458</td> <td>    0.001</td> <td>   32.809</td> <td> 0.000</td> <td>    0.043</td> <td>    0.049</td>\n",
              "</tr>\n",
              "<tr>\n",
              "  <th>Radio</th>     <td>    0.1885</td> <td>    0.009</td> <td>   21.893</td> <td> 0.000</td> <td>    0.172</td> <td>    0.206</td>\n",
              "</tr>\n",
              "<tr>\n",
              "  <th>Newspaper</th> <td>   -0.0010</td> <td>    0.006</td> <td>   -0.177</td> <td> 0.860</td> <td>   -0.013</td> <td>    0.011</td>\n",
              "</tr>\n",
              "</table>\n",
              "<table class=\"simpletable\">\n",
              "<tr>\n",
              "  <th>Omnibus:</th>       <td>60.414</td> <th>  Durbin-Watson:     </th> <td>   2.084</td>\n",
              "</tr>\n",
              "<tr>\n",
              "  <th>Prob(Omnibus):</th> <td> 0.000</td> <th>  Jarque-Bera (JB):  </th> <td> 151.241</td>\n",
              "</tr>\n",
              "<tr>\n",
              "  <th>Skew:</th>          <td>-1.327</td> <th>  Prob(JB):          </th> <td>1.44e-33</td>\n",
              "</tr>\n",
              "<tr>\n",
              "  <th>Kurtosis:</th>      <td> 6.332</td> <th>  Cond. No.          </th> <td>    454.</td>\n",
              "</tr>\n",
              "</table><br/><br/>Warnings:<br/>[1] Standard Errors assume that the covariance matrix of the errors is correctly specified."
            ],
            "text/plain": [
              "<class 'statsmodels.iolib.summary.Summary'>\n",
              "\"\"\"\n",
              "                            OLS Regression Results                            \n",
              "==============================================================================\n",
              "Dep. Variable:                  Sales   R-squared:                       0.897\n",
              "Model:                            OLS   Adj. R-squared:                  0.896\n",
              "Method:                 Least Squares   F-statistic:                     570.3\n",
              "Date:                Mon, 11 Oct 2021   Prob (F-statistic):           1.58e-96\n",
              "Time:                        01:17:39   Log-Likelihood:                -386.18\n",
              "No. Observations:                 200   AIC:                             780.4\n",
              "Df Residuals:                     196   BIC:                             793.6\n",
              "Df Model:                           3                                         \n",
              "Covariance Type:            nonrobust                                         \n",
              "==============================================================================\n",
              "                 coef    std err          t      P>|t|      [0.025      0.975]\n",
              "------------------------------------------------------------------------------\n",
              "Intercept      2.9389      0.312      9.422      0.000       2.324       3.554\n",
              "TV             0.0458      0.001     32.809      0.000       0.043       0.049\n",
              "Radio          0.1885      0.009     21.893      0.000       0.172       0.206\n",
              "Newspaper     -0.0010      0.006     -0.177      0.860      -0.013       0.011\n",
              "==============================================================================\n",
              "Omnibus:                       60.414   Durbin-Watson:                   2.084\n",
              "Prob(Omnibus):                  0.000   Jarque-Bera (JB):              151.241\n",
              "Skew:                          -1.327   Prob(JB):                     1.44e-33\n",
              "Kurtosis:                       6.332   Cond. No.                         454.\n",
              "==============================================================================\n",
              "\n",
              "Warnings:\n",
              "[1] Standard Errors assume that the covariance matrix of the errors is correctly specified.\n",
              "\"\"\""
            ]
          },
          "metadata": {},
          "execution_count": 24
        }
      ]
    },
    {
      "cell_type": "code",
      "metadata": {
        "colab": {
          "base_uri": "https://localhost:8080/"
        },
        "id": "w2aGVrtKnY7G",
        "outputId": "ffd7e887-6578-49b6-9b07-94149fa94ce7"
      },
      "source": [
        "print(\"*************Parameters**************\")\n",
        "print(lm1.params)\n",
        "print(\"*************P-Values**************\")\n",
        "print(lm1.pvalues)\n",
        "print(\"************Standard Errors***************\")\n",
        "print(lm1.bse) \n",
        "print(\"*************Confidence Interval**************\")\n",
        "print(lm1.conf_int())\n",
        "print(\"*************Error Covariance Matrix**************\")\n",
        "print(lm1.cov_params())\n"
      ],
      "execution_count": 25,
      "outputs": [
        {
          "output_type": "stream",
          "name": "stdout",
          "text": [
            "*************Parameters**************\n",
            "Intercept    2.938889\n",
            "TV           0.045765\n",
            "Radio        0.188530\n",
            "Newspaper   -0.001037\n",
            "dtype: float64\n",
            "*************P-Values**************\n",
            "Intercept    1.267295e-17\n",
            "TV           1.509960e-81\n",
            "Radio        1.505339e-54\n",
            "Newspaper    8.599151e-01\n",
            "dtype: float64\n",
            "************Standard Errors***************\n",
            "Intercept    0.311908\n",
            "TV           0.001395\n",
            "Radio        0.008611\n",
            "Newspaper    0.005871\n",
            "dtype: float64\n",
            "*************Confidence Interval**************\n",
            "                  0         1\n",
            "Intercept  2.323762  3.554016\n",
            "TV         0.043014  0.048516\n",
            "Radio      0.171547  0.205513\n",
            "Newspaper -0.012616  0.010541\n",
            "*************Error Covariance Matrix**************\n",
            "           Intercept            TV         Radio     Newspaper\n",
            "Intercept   0.097287 -2.657273e-04 -1.115489e-03 -5.910212e-04\n",
            "TV         -0.000266  1.945737e-06 -4.470395e-07 -3.265950e-07\n",
            "Radio      -0.001115 -4.470395e-07  7.415335e-05 -1.780062e-05\n",
            "Newspaper  -0.000591 -3.265950e-07 -1.780062e-05  3.446875e-05\n"
          ]
        }
      ]
    },
    {
      "cell_type": "markdown",
      "metadata": {
        "id": "drlo5QI2h2oY"
      },
      "source": [
        "### Visualizing the confidence bands in Simple linear regression"
      ]
    },
    {
      "cell_type": "code",
      "metadata": {
        "colab": {
          "base_uri": "https://localhost:8080/",
          "height": 1000
        },
        "id": "daxXRhFiip3e",
        "outputId": "e3039e99-e7a0-47cb-fe98-687af7568cb4"
      },
      "source": [
        "# Import seaborn for visualization tools\n",
        "import seaborn as sns\n",
        "# Plot the linear regression for TV ads vs Sales with confidence bands\n",
        "sns.lmplot(x='TV', y='Sales', data=Ad_df)\n",
        "# Plot the linear regression for Radio ads vs Sales with confidence bands\n",
        "sns.lmplot(x='Radio', y='Sales', data=Ad_df )\n",
        "# Plot the linear regression for Newspaper ads vs Sales with confidence bands\n",
        "sns.lmplot(x='Newspaper', y='Sales', data=Ad_df)"
      ],
      "execution_count": 26,
      "outputs": [
        {
          "output_type": "execute_result",
          "data": {
            "text/plain": [
              "<seaborn.axisgrid.FacetGrid at 0x7fca24061950>"
            ]
          },
          "metadata": {},
          "execution_count": 26
        },
        {
          "output_type": "display_data",
          "data": {
            "image/png": "[encoded data removed]",
            "text/plain": [
              "<Figure size 360x360 with 1 Axes>"
            ]
          },
          "metadata": {
            "needs_background": "light"
          }
        },
        {
          "output_type": "display_data",
          "data": {
            "image/png": "[encoded data removed]",
            "text/plain": [
              "<Figure size 360x360 with 1 Axes>"
            ]
          },
          "metadata": {
            "needs_background": "light"
          }
        },
        {
          "output_type": "display_data",
          "data": {
            "image/png": "[encoded data removed]",
            "text/plain": [
              "<Figure size 360x360 with 1 Axes>"
            ]
          },
          "metadata": {
            "needs_background": "light"
          }
        }
      ]
    },
    {
      "cell_type": "markdown",
      "metadata": {
        "id": "GGCcusUsz_Az"
      },
      "source": [
        "# Model Evaluation: Cross-validation and Bootstrapping Methods\n",
        "\n",
        "We can see that the newspaper ads can likely be omitted from the list of significant features, owing to its p-value. We can now run regression analysis adding a multiplicative feature within it."
      ]
    },
    {
      "cell_type": "code",
      "metadata": {
        "id": "zTSASn2az9-B"
      },
      "source": [
        "Ad_df['TVandRadio'] = Ad_df['TV']*Ad_df['Radio']"
      ],
      "execution_count": 27,
      "outputs": []
    },
    {
      "cell_type": "code",
      "metadata": {
        "id": "h_EfN22CWf5W"
      },
      "source": [
        "# Remove the 'Sales_Predicted' and the 'Error' columns added in the previous sections\n",
        "Ad_df.drop(columns = [\"Error\", \"Sales_Predicted\"], inplace = True)"
      ],
      "execution_count": 28,
      "outputs": []
    },
    {
      "cell_type": "code",
      "metadata": {
        "colab": {
          "base_uri": "https://localhost:8080/",
          "height": 544
        },
        "id": "rz8DKNiF2QxK",
        "outputId": "6e178d2c-f028-4d1f-873a-d0ede3b69f23"
      },
      "source": [
        "# Perform detailed modeling with the statsmodels library, including the new 'TVandRadio' feature\n",
        "lm2 = smf.ols(formula='Sales ~ TV+Radio+Newspaper+TVandRadio', data=Ad_df).fit()\n",
        "lm2.params\n",
        "lm2.summary()"
      ],
      "execution_count": 30,
      "outputs": [
        {
          "output_type": "execute_result",
          "data": {
            "text/html": [
              "<table class=\"simpletable\">\n",
              "<caption>OLS Regression Results</caption>\n",
              "<tr>\n",
              "  <th>Dep. Variable:</th>          <td>Sales</td>      <th>  R-squared:         </th> <td>   0.968</td> \n",
              "</tr>\n",
              "<tr>\n",
              "  <th>Model:</th>                   <td>OLS</td>       <th>  Adj. R-squared:    </th> <td>   0.967</td> \n",
              "</tr>\n",
              "<tr>\n",
              "  <th>Method:</th>             <td>Least Squares</td>  <th>  F-statistic:       </th> <td>   1466.</td> \n",
              "</tr>\n",
              "<tr>\n",
              "  <th>Date:</th>             <td>Mon, 11 Oct 2021</td> <th>  Prob (F-statistic):</th> <td>2.92e-144</td>\n",
              "</tr>\n",
              "<tr>\n",
              "  <th>Time:</th>                 <td>01:27:27</td>     <th>  Log-Likelihood:    </th> <td> -270.04</td> \n",
              "</tr>\n",
              "<tr>\n",
              "  <th>No. Observations:</th>      <td>   200</td>      <th>  AIC:               </th> <td>   550.1</td> \n",
              "</tr>\n",
              "<tr>\n",
              "  <th>Df Residuals:</th>          <td>   195</td>      <th>  BIC:               </th> <td>   566.6</td> \n",
              "</tr>\n",
              "<tr>\n",
              "  <th>Df Model:</th>              <td>     4</td>      <th>                     </th>     <td> </td>    \n",
              "</tr>\n",
              "<tr>\n",
              "  <th>Covariance Type:</th>      <td>nonrobust</td>    <th>                     </th>     <td> </td>    \n",
              "</tr>\n",
              "</table>\n",
              "<table class=\"simpletable\">\n",
              "<tr>\n",
              "       <td></td>         <th>coef</th>     <th>std err</th>      <th>t</th>      <th>P>|t|</th>  <th>[0.025</th>    <th>0.975]</th>  \n",
              "</tr>\n",
              "<tr>\n",
              "  <th>Intercept</th>  <td>    6.7284</td> <td>    0.253</td> <td>   26.561</td> <td> 0.000</td> <td>    6.229</td> <td>    7.228</td>\n",
              "</tr>\n",
              "<tr>\n",
              "  <th>TV</th>         <td>    0.0191</td> <td>    0.002</td> <td>   12.633</td> <td> 0.000</td> <td>    0.016</td> <td>    0.022</td>\n",
              "</tr>\n",
              "<tr>\n",
              "  <th>Radio</th>      <td>    0.0280</td> <td>    0.009</td> <td>    3.062</td> <td> 0.003</td> <td>    0.010</td> <td>    0.046</td>\n",
              "</tr>\n",
              "<tr>\n",
              "  <th>Newspaper</th>  <td>    0.0014</td> <td>    0.003</td> <td>    0.438</td> <td> 0.662</td> <td>   -0.005</td> <td>    0.008</td>\n",
              "</tr>\n",
              "<tr>\n",
              "  <th>TVandRadio</th> <td>    0.0011</td> <td> 5.26e-05</td> <td>   20.686</td> <td> 0.000</td> <td>    0.001</td> <td>    0.001</td>\n",
              "</tr>\n",
              "</table>\n",
              "<table class=\"simpletable\">\n",
              "<tr>\n",
              "  <th>Omnibus:</th>       <td>126.161</td> <th>  Durbin-Watson:     </th> <td>   2.216</td> \n",
              "</tr>\n",
              "<tr>\n",
              "  <th>Prob(Omnibus):</th> <td> 0.000</td>  <th>  Jarque-Bera (JB):  </th> <td>1123.463</td> \n",
              "</tr>\n",
              "<tr>\n",
              "  <th>Skew:</th>          <td>-2.291</td>  <th>  Prob(JB):          </th> <td>1.10e-244</td>\n",
              "</tr>\n",
              "<tr>\n",
              "  <th>Kurtosis:</th>      <td>13.669</td>  <th>  Cond. No.          </th> <td>1.84e+04</td> \n",
              "</tr>\n",
              "</table><br/><br/>Warnings:<br/>[1] Standard Errors assume that the covariance matrix of the errors is correctly specified.<br/>[2] The condition number is large, 1.84e+04. This might indicate that there are<br/>strong multicollinearity or other numerical problems."
            ],
            "text/plain": [
              "<class 'statsmodels.iolib.summary.Summary'>\n",
              "\"\"\"\n",
              "                            OLS Regression Results                            \n",
              "==============================================================================\n",
              "Dep. Variable:                  Sales   R-squared:                       0.968\n",
              "Model:                            OLS   Adj. R-squared:                  0.967\n",
              "Method:                 Least Squares   F-statistic:                     1466.\n",
              "Date:                Mon, 11 Oct 2021   Prob (F-statistic):          2.92e-144\n",
              "Time:                        01:27:27   Log-Likelihood:                -270.04\n",
              "No. Observations:                 200   AIC:                             550.1\n",
              "Df Residuals:                     195   BIC:                             566.6\n",
              "Df Model:                           4                                         \n",
              "Covariance Type:            nonrobust                                         \n",
              "==============================================================================\n",
              "                 coef    std err          t      P>|t|      [0.025      0.975]\n",
              "------------------------------------------------------------------------------\n",
              "Intercept      6.7284      0.253     26.561      0.000       6.229       7.228\n",
              "TV             0.0191      0.002     12.633      0.000       0.016       0.022\n",
              "Radio          0.0280      0.009      3.062      0.003       0.010       0.046\n",
              "Newspaper      0.0014      0.003      0.438      0.662      -0.005       0.008\n",
              "TVandRadio     0.0011   5.26e-05     20.686      0.000       0.001       0.001\n",
              "==============================================================================\n",
              "Omnibus:                      126.161   Durbin-Watson:                   2.216\n",
              "Prob(Omnibus):                  0.000   Jarque-Bera (JB):             1123.463\n",
              "Skew:                          -2.291   Prob(JB):                    1.10e-244\n",
              "Kurtosis:                      13.669   Cond. No.                     1.84e+04\n",
              "==============================================================================\n",
              "\n",
              "Warnings:\n",
              "[1] Standard Errors assume that the covariance matrix of the errors is correctly specified.\n",
              "[2] The condition number is large, 1.84e+04. This might indicate that there are\n",
              "strong multicollinearity or other numerical problems.\n",
              "\"\"\""
            ]
          },
          "metadata": {},
          "execution_count": 30
        }
      ]
    },
    {
      "cell_type": "markdown",
      "metadata": {
        "id": "NslaNwMQFjL1"
      },
      "source": [
        "**Observations**\n",
        "- We see an increase in the R-squared value here. \n",
        "- However, what is yet to be seen is if this model useful for prediction. Does it perform well when predicting unseen data?"
      ]
    },
    {
      "cell_type": "markdown",
      "metadata": {
        "id": "d46mQv0BUKZ8"
      },
      "source": [
        "## Performance assessment, testing and validation"
      ]
    },
    {
      "cell_type": "markdown",
      "metadata": {
        "id": "-EAcqssG3pr0"
      },
      "source": [
        "### Train, Test, and Validation set\n",
        "We will split data into three sets:\n",
        "1. One to **train** the model\n",
        "2. One to **validate** the model performance for values not seen during training and make improvements\n",
        "3. One to **test** the model"
      ]
    },
    {
      "cell_type": "code",
      "metadata": {
        "id": "uQTTvaQ_3C6D"
      },
      "source": [
        "# Import libraries from sklearn to train and test the model\n",
        "from sklearn.model_selection import train_test_split"
      ],
      "execution_count": 31,
      "outputs": []
    },
    {
      "cell_type": "code",
      "metadata": {
        "id": "RRerX1zyDUlM"
      },
      "source": [
        "features_base = [i for i in Ad_df.columns if i not in (\"Sales\" , \"TVandRadio\")]\n",
        "features_added = [i for i in Ad_df.columns if i not in \"Sales\"]\n",
        "target  = 'Sales'\n",
        "# Obtain the training and testing data sets from the dataframe\n",
        "train, test = train_test_split(Ad_df, test_size = 0.10, train_size = 0.9)"
      ],
      "execution_count": 33,
      "outputs": []
    },
    {
      "cell_type": "code",
      "metadata": {
        "id": "ztuTrjlsDUq0"
      },
      "source": [
        "# Obtain the training and validation subsets of the training data\n",
        "train, validation = train_test_split(train, test_size = 0.2, train_size = 0.80)"
      ],
      "execution_count": 34,
      "outputs": []
    },
    {
      "cell_type": "code",
      "metadata": {
        "colab": {
          "base_uri": "https://localhost:8080/"
        },
        "id": "jgm44JjJDUtK",
        "outputId": "522cc29b-6399-48dd-92d3-c7819f61f75f"
      },
      "source": [
        "# Observe the shape of the training, validation, and testing data\n",
        "train.shape, validation.shape, test.shape"
      ],
      "execution_count": 35,
      "outputs": [
        {
          "output_type": "execute_result",
          "data": {
            "text/plain": [
              "((144, 5), (36, 5), (20, 5))"
            ]
          },
          "metadata": {},
          "execution_count": 35
        }
      ]
    },
    {
      "cell_type": "code",
      "metadata": {
        "colab": {
          "base_uri": "https://localhost:8080/"
        },
        "id": "BCsbEBPoDUwm",
        "outputId": "d6a458af-0faa-4ada-e2ea-dd482e2905a0"
      },
      "source": [
        "# Begin modeling using Linear Regression\n",
        "from sklearn.linear_model import LinearRegression\n",
        "\n",
        "# Initialize the regression model\n",
        "mlr = LinearRegression()\n",
        "# Fit the model using the base features and target variable\n",
        "mlr.fit(train[features_base], train[target])\n",
        "# Obtain and display the R^2 and MSE for both the training and validation sets\n",
        "print(\"*********Training set Metrics**************\")\n",
        "print(\"R-Squared:\", mlr.score(train[features_base], train[target]))\n",
        "se_train = (train[target] - mlr.predict(train[features_base]))**2\n",
        "mse_train = se_train.mean()\n",
        "print('MSE: ', mse_train)\n",
        "print(\"********Validation set Metrics**************\")\n",
        "print(\"R-Squared:\", mlr.score(validation[features_base], validation[target]))\n",
        "se_val = (validation[target] - mlr.predict(validation[features_base]))**2\n",
        "mse_val = se_val.mean()\n",
        "print('MSE: ', mse_val)"
      ],
      "execution_count": 36,
      "outputs": [
        {
          "output_type": "stream",
          "name": "stdout",
          "text": [
            "*********Training set Metrics**************\n",
            "R-Squared: 0.9035763387197941\n",
            "MSE:  2.8067140315286534\n",
            "********Validation set Metrics**************\n",
            "R-Squared: 0.8391421793418498\n",
            "MSE:  3.0050872215144566\n"
          ]
        }
      ]
    },
    {
      "cell_type": "markdown",
      "metadata": {
        "id": "QuCsYEJF_Ppc"
      },
      "source": [
        "**Can we increase the model performance by adding the new feature?** This was the case in the previous analysis, however let's verify this against the validation set."
      ]
    },
    {
      "cell_type": "code",
      "metadata": {
        "colab": {
          "base_uri": "https://localhost:8080/"
        },
        "id": "BhMVT0OoI-ZR",
        "outputId": "34ed8c57-78fd-4103-f472-20c12aed5ad0"
      },
      "source": [
        "# Initialize the model with added features\n",
        "mlr_added_feature = LinearRegression()\n",
        "# Train the model using the original and added features alongside the target variable\n",
        "mlr_added_feature.fit(train[features_added], train[target])\n",
        "# Obtain the R^2 metric as well as the MSE for the training and validation sets\n",
        "print(\"*********Training set Metrics**************\")\n",
        "print(\"R-Squared:\", mlr_added_feature.score(train[features_added], train[target]))\n",
        "se_train = (train[target] - mlr_added_feature.predict(train[features_added]))**2\n",
        "mse_train = se_train.mean()\n",
        "print('MSE: ', mse_train)\n",
        "print(\"********Validation set Metrics**************\")\n",
        "print(\"R-Squared:\", mlr_added_feature.score(validation[features_added], validation[target]))\n",
        "se_val = (validation[target] - mlr_added_feature.predict(validation[features_added]))**2\n",
        "mse_val = se_val.mean()\n",
        "print('MSE: ', mse_val)"
      ],
      "execution_count": 37,
      "outputs": [
        {
          "output_type": "stream",
          "name": "stdout",
          "text": [
            "*********Training set Metrics**************\n",
            "R-Squared: 0.970131415594928\n",
            "MSE:  0.8694191222214341\n",
            "********Validation set Metrics**************\n",
            "R-Squared: 0.9663997065759058\n",
            "MSE:  0.6277084446050276\n"
          ]
        }
      ]
    },
    {
      "cell_type": "markdown",
      "metadata": {
        "id": "b6lpvtsONOad"
      },
      "source": [
        "**Observations**\n",
        "- We can see in the output above that the R-squared has increased after adding a feature, which should be expected.\n",
        "- The error has also decreased.\n",
        "\n",
        "**Now we will fit a regularized model.**"
      ]
    },
    {
      "cell_type": "markdown",
      "metadata": {
        "id": "NONsd0v-3ApC"
      },
      "source": [
        "## Regularization \n",
        "\n",
        "We will now regularize our model using both Ridge and Lasso models."
      ]
    },
    {
      "cell_type": "code",
      "metadata": {
        "colab": {
          "base_uri": "https://localhost:8080/"
        },
        "id": "zvJSmJcAQ5-L",
        "outputId": "3f47efcb-03f0-4fc4-e566-cbc940899556"
      },
      "source": [
        "# Display the features, including the added features\n",
        "features_added"
      ],
      "execution_count": 38,
      "outputs": [
        {
          "output_type": "execute_result",
          "data": {
            "text/plain": [
              "['TV', 'Radio', 'Newspaper', 'TVandRadio']"
            ]
          },
          "metadata": {},
          "execution_count": 38
        }
      ]
    },
    {
      "cell_type": "code",
      "metadata": {
        "colab": {
          "base_uri": "https://localhost:8080/"
        },
        "id": "aZoBlRnCKge6",
        "outputId": "b04286ed-f325-4769-8078-5fe68435a667"
      },
      "source": [
        "from sklearn.linear_model import Ridge\n",
        "\n",
        "# Fit a Ridge model with the default features\n",
        "ridge = Ridge()\n",
        "ridge.fit(train[features_added], train[target])\n",
        "# Obtain the R^2 and MSE metrics for the Ridge model prediction on the training and validation sets\n",
        "print(\"*********Training set Metrics**************\")\n",
        "print(\"R-Squared:\", ridge.score(train[features_added], train[target]))\n",
        "se_train = (train[target] - ridge.predict(train[features_added]))**2\n",
        "mse_train = se_train.mean()\n",
        "print('MSE: ', mse_train)\n",
        "print(\"********Validation set Metrics**************\")\n",
        "print(\"R-Squared:\", ridge.score(validation[features_added], validation[target]))\n",
        "se_val = (validation[target] - ridge.predict(validation[features_added]))**2\n",
        "mse_val = se_val.mean()\n",
        "print('MSE: ', mse_val)"
      ],
      "execution_count": 44,
      "outputs": [
        {
          "output_type": "stream",
          "name": "stdout",
          "text": [
            "*********Training set Metrics**************\n",
            "R-Squared: 0.9701314155546668\n",
            "MSE:  0.8694191233933648\n",
            "********Validation set Metrics**************\n",
            "R-Squared: 0.9664006221298456\n",
            "MSE:  0.6276913405597633\n"
          ]
        }
      ]
    },
    {
      "cell_type": "code",
      "metadata": {
        "colab": {
          "base_uri": "https://localhost:8080/"
        },
        "id": "oL3Px7TORUVN",
        "outputId": "02a5b6cd-6848-4680-e8af-4a94a4c35ab6"
      },
      "source": [
        "from sklearn.linear_model import Lasso\n",
        "\n",
        "# Fit a Lasso model with the default features\n",
        "lasso = Lasso()\n",
        "lasso.fit(train[features_added], train[target])\n",
        "# Obtain R^2 and MSE metrics for the Lasso model prediction on the training and validation sets\n",
        "print(\"*********Training set Metrics**************\")\n",
        "print(\"R-Squared:\", lasso.score(train[features_added], train[target]))\n",
        "se_train = (train[target] - lasso.predict(train[features_added]))**2\n",
        "mse_train = se_train.mean()\n",
        "print('MSE: ', mse_train)\n",
        "print(\"********Validation set Metrics**************\")\n",
        "print(\"R-Squared:\", lasso.score(validation[features_added], validation[target]))\n",
        "se_val = (validation[target] - lasso.predict(validation[features_added]))**2\n",
        "mse_val = se_val.mean()\n",
        "print('MSE: ', mse_val)"
      ],
      "execution_count": 45,
      "outputs": [
        {
          "output_type": "stream",
          "name": "stdout",
          "text": [
            "*********Training set Metrics**************\n",
            "R-Squared: 0.9693561799740387\n",
            "MSE:  0.8919847940285633\n",
            "********Validation set Metrics**************\n",
            "R-Squared: 0.9690587912985489\n",
            "MSE:  0.5780323922486991\n"
          ]
        }
      ]
    },
    {
      "cell_type": "code",
      "metadata": {
        "colab": {
          "base_uri": "https://localhost:8080/"
        },
        "id": "auLl5-cWRhKb",
        "outputId": "33125897-1b10-4418-bf65-e5cfa13c9656"
      },
      "source": [
        "# Run a prediction and evaluate metrics on the testing data using the Ridge model\n",
        "rsq_test = ridge.score(test[features_added], test[target])\n",
        "se_test = (test[target] - ridge.predict(test[features_added]))**2\n",
        "mse_test = se_test.mean()\n",
        "\n",
        "print(\"*****************Test set Metrics******************\")\n",
        "print(\"Rsquared: \", rsq_test)\n",
        "print(\"MSE: \", mse_test)\n",
        "print(\"Intercept is {} and Coefficients are {}\".format(ridge.intercept_, ridge.coef_))"
      ],
      "execution_count": 46,
      "outputs": [
        {
          "output_type": "stream",
          "name": "stdout",
          "text": [
            "*****************Test set Metrics******************\n",
            "Rsquared:  0.9406461987862091\n",
            "MSE:  1.3904978233308116\n",
            "Intercept is 6.6822787556236705 and Coefficients are [ 0.01902388  0.03434089 -0.00052342  0.00106803]\n"
          ]
        }
      ]
    },
    {
      "cell_type": "markdown",
      "metadata": {
        "id": "SvdZcoUc9r4C"
      },
      "source": [
        "We can now evaluate the performance of our models using the LooCV and KFold methods.\n",
        "\n",
        "### K-Fold and LooCV"
      ]
    },
    {
      "cell_type": "code",
      "metadata": {
        "id": "tY9Rz4rf9ql5"
      },
      "source": [
        "# Import a cross-validation library from sklearn\n",
        "from sklearn.model_selection import cross_val_score"
      ],
      "execution_count": 47,
      "outputs": []
    },
    {
      "cell_type": "code",
      "metadata": {
        "colab": {
          "base_uri": "https://localhost:8080/"
        },
        "id": "WMcwry-h64ZA",
        "outputId": "6549c447-f492-4916-aa6a-525b8675215d"
      },
      "source": [
        "# Create a ridge model for cross-validation\n",
        "ridgeCV = Ridge()\n",
        "# Obtain a cross-validation score on the Ridge model and calculate the error metrics\n",
        "cvs = cross_val_score(ridgeCV, Ad_df[features_added], Ad_df[target], cv = 10)\n",
        "print(\"Mean Score:\")\n",
        "print(cvs.mean(), \"\\n\")\n",
        "print(\"Confidence Interval:\")\n",
        "cvs.mean() - cvs.std(), cvs.mean() + cvs.std() "
      ],
      "execution_count": 48,
      "outputs": [
        {
          "output_type": "stream",
          "name": "stdout",
          "text": [
            "Mean Score:\n",
            "0.9649887636257694 \n",
            "\n",
            "Confidence Interval:\n"
          ]
        },
        {
          "output_type": "execute_result",
          "data": {
            "text/plain": [
              "(0.9430473456799697, 0.986930181571569)"
            ]
          },
          "metadata": {},
          "execution_count": 48
        }
      ]
    },
    {
      "cell_type": "markdown",
      "metadata": {
        "id": "sLUHsYk6CtvB"
      },
      "source": [
        "Note that the same can be set as LooCV if 'cv' parameter is set to **n**, which is 200 in this case."
      ]
    },
    {
      "cell_type": "markdown",
      "metadata": {
        "id": "id70R6LjYLEW"
      },
      "source": [
        "## Alternative Methods for using the statsmodels library to fit regularized model\n",
        "\n",
        "We can also use the **statsmodels** library to regularize using the code below."
      ]
    },
    {
      "cell_type": "code",
      "metadata": {
        "id": "XVfz6N4yCT09",
        "colab": {
          "base_uri": "https://localhost:8080/"
        },
        "outputId": "9e3721ce-26a9-4cb0-ed6d-c8a273b2f829"
      },
      "source": [
        "# Alternative method for fitting the Lasso model\n",
        "lm3 = smf.ols(formula= 'Sales ~ TV+Radio+Newspaper+TVandRadio', data = Ad_df).fit_regularized(method = 'elastic_net', L1_wt = 1)\n",
        "print(\"*************Parameters**************\")\n",
        "print(lm3.params)\n",
        "\n",
        "# Alternative method for fitting the Ridge model\n",
        "lm4 = smf.ols(formula= 'Sales ~ TV+Radio+Newspaper+TVandRadio', data = Ad_df).fit_regularized(method = 'elastic_net', L1_wt = 0)\n",
        "print(\"\\n*************Parameters**************\")\n",
        "print(lm4.params)"
      ],
      "execution_count": 58,
      "outputs": [
        {
          "output_type": "stream",
          "name": "stdout",
          "text": [
            "*************Parameters**************\n",
            "Intercept     6.471607\n",
            "TV            0.020325\n",
            "Radio         0.036049\n",
            "Newspaper     0.002202\n",
            "TVandRadio    0.001044\n",
            "dtype: float64\n",
            "\n",
            "*************Parameters**************\n",
            "[6.72841195e+00 1.90668162e-02 2.79916606e-02 1.44424442e-03\n",
            " 1.08733333e-03]\n"
          ]
        }
      ]
    },
    {
      "cell_type": "markdown",
      "metadata": {
        "id": "i6veKXLlmMWr"
      },
      "source": [
        "## Bootstrapping\n",
        "\n",
        "In this section, we experiment with Bootstrapping methods.  We begin by once again obtaining a detailed model using the **statsmodels** library."
      ]
    },
    {
      "cell_type": "code",
      "metadata": {
        "colab": {
          "base_uri": "https://localhost:8080/",
          "height": 446
        },
        "id": "8FcvUb-YmLUP",
        "outputId": "4fea43e8-8b4e-4f78-accf-501bc2f29c13"
      },
      "source": [
        "# Obtain a more detailed model using the statsmodels library\n",
        "import statsmodels.formula.api as smf\n",
        "lm2 = smf.ols(formula= 'Sales ~ TV', data = Ad_df).fit()\n",
        "lm2.params\n",
        "lm2.summary()"
      ],
      "execution_count": 50,
      "outputs": [
        {
          "output_type": "execute_result",
          "data": {
            "text/html": [
              "<table class=\"simpletable\">\n",
              "<caption>OLS Regression Results</caption>\n",
              "<tr>\n",
              "  <th>Dep. Variable:</th>          <td>Sales</td>      <th>  R-squared:         </th> <td>   0.612</td>\n",
              "</tr>\n",
              "<tr>\n",
              "  <th>Model:</th>                   <td>OLS</td>       <th>  Adj. R-squared:    </th> <td>   0.610</td>\n",
              "</tr>\n",
              "<tr>\n",
              "  <th>Method:</th>             <td>Least Squares</td>  <th>  F-statistic:       </th> <td>   312.1</td>\n",
              "</tr>\n",
              "<tr>\n",
              "  <th>Date:</th>             <td>Mon, 11 Oct 2021</td> <th>  Prob (F-statistic):</th> <td>1.47e-42</td>\n",
              "</tr>\n",
              "<tr>\n",
              "  <th>Time:</th>                 <td>01:55:01</td>     <th>  Log-Likelihood:    </th> <td> -519.05</td>\n",
              "</tr>\n",
              "<tr>\n",
              "  <th>No. Observations:</th>      <td>   200</td>      <th>  AIC:               </th> <td>   1042.</td>\n",
              "</tr>\n",
              "<tr>\n",
              "  <th>Df Residuals:</th>          <td>   198</td>      <th>  BIC:               </th> <td>   1049.</td>\n",
              "</tr>\n",
              "<tr>\n",
              "  <th>Df Model:</th>              <td>     1</td>      <th>                     </th>     <td> </td>   \n",
              "</tr>\n",
              "<tr>\n",
              "  <th>Covariance Type:</th>      <td>nonrobust</td>    <th>                     </th>     <td> </td>   \n",
              "</tr>\n",
              "</table>\n",
              "<table class=\"simpletable\">\n",
              "<tr>\n",
              "      <td></td>         <th>coef</th>     <th>std err</th>      <th>t</th>      <th>P>|t|</th>  <th>[0.025</th>    <th>0.975]</th>  \n",
              "</tr>\n",
              "<tr>\n",
              "  <th>Intercept</th> <td>    7.0326</td> <td>    0.458</td> <td>   15.360</td> <td> 0.000</td> <td>    6.130</td> <td>    7.935</td>\n",
              "</tr>\n",
              "<tr>\n",
              "  <th>TV</th>        <td>    0.0475</td> <td>    0.003</td> <td>   17.668</td> <td> 0.000</td> <td>    0.042</td> <td>    0.053</td>\n",
              "</tr>\n",
              "</table>\n",
              "<table class=\"simpletable\">\n",
              "<tr>\n",
              "  <th>Omnibus:</th>       <td> 0.531</td> <th>  Durbin-Watson:     </th> <td>   1.935</td>\n",
              "</tr>\n",
              "<tr>\n",
              "  <th>Prob(Omnibus):</th> <td> 0.767</td> <th>  Jarque-Bera (JB):  </th> <td>   0.669</td>\n",
              "</tr>\n",
              "<tr>\n",
              "  <th>Skew:</th>          <td>-0.089</td> <th>  Prob(JB):          </th> <td>   0.716</td>\n",
              "</tr>\n",
              "<tr>\n",
              "  <th>Kurtosis:</th>      <td> 2.779</td> <th>  Cond. No.          </th> <td>    338.</td>\n",
              "</tr>\n",
              "</table><br/><br/>Warnings:<br/>[1] Standard Errors assume that the covariance matrix of the errors is correctly specified."
            ],
            "text/plain": [
              "<class 'statsmodels.iolib.summary.Summary'>\n",
              "\"\"\"\n",
              "                            OLS Regression Results                            \n",
              "==============================================================================\n",
              "Dep. Variable:                  Sales   R-squared:                       0.612\n",
              "Model:                            OLS   Adj. R-squared:                  0.610\n",
              "Method:                 Least Squares   F-statistic:                     312.1\n",
              "Date:                Mon, 11 Oct 2021   Prob (F-statistic):           1.47e-42\n",
              "Time:                        01:55:01   Log-Likelihood:                -519.05\n",
              "No. Observations:                 200   AIC:                             1042.\n",
              "Df Residuals:                     198   BIC:                             1049.\n",
              "Df Model:                           1                                         \n",
              "Covariance Type:            nonrobust                                         \n",
              "==============================================================================\n",
              "                 coef    std err          t      P>|t|      [0.025      0.975]\n",
              "------------------------------------------------------------------------------\n",
              "Intercept      7.0326      0.458     15.360      0.000       6.130       7.935\n",
              "TV             0.0475      0.003     17.668      0.000       0.042       0.053\n",
              "==============================================================================\n",
              "Omnibus:                        0.531   Durbin-Watson:                   1.935\n",
              "Prob(Omnibus):                  0.767   Jarque-Bera (JB):                0.669\n",
              "Skew:                          -0.089   Prob(JB):                        0.716\n",
              "Kurtosis:                       2.779   Cond. No.                         338.\n",
              "==============================================================================\n",
              "\n",
              "Warnings:\n",
              "[1] Standard Errors assume that the covariance matrix of the errors is correctly specified.\n",
              "\"\"\""
            ]
          },
          "metadata": {},
          "execution_count": 50
        }
      ]
    },
    {
      "cell_type": "markdown",
      "metadata": {
        "id": "3BdvONNiD_Hb"
      },
      "source": [
        "Now we can calculate the slope 1000 times using bootstrapping. The bootstrap method is a resampling technique that can be used to estimate statistics by sampling our dataset with replacement."
      ]
    },
    {
      "cell_type": "code",
      "metadata": {
        "colab": {
          "base_uri": "https://localhost:8080/",
          "height": 279
        },
        "id": "_qjK1Fn9UOJT",
        "outputId": "a120e701-43c5-48a5-ae5a-05c29140c959"
      },
      "source": [
        "# Calculate the slopes a 1000 times using bootstrapping\n",
        "Slope = []\n",
        "for i in range(1000):\n",
        "  bootstrap_df = Ad_df.sample(n = 200, replace = True )\n",
        "  lm3 = smf.ols(formula= 'Sales ~ TV', data = bootstrap_df).fit()\n",
        "  Slope.append(lm3.params.TV)\n",
        "  \n",
        "  plt.xlabel('TV Ads')\n",
        "  plt.ylabel('Sales')\n",
        "  plt.plot(bootstrap_df['TV'], lm3.predict(bootstrap_df['TV']), color='green', linewidth=3)\n",
        "  \n",
        "plt.scatter(Ad_df['TV'], Ad_df['Sales'],  color=(0,0,0.5))\n",
        "plt.show()\n"
      ],
      "execution_count": 51,
      "outputs": [
        {
          "output_type": "display_data",
          "data": {
            "image/png": "[encoded data removed]",
            "text/plain": [
              "<Figure size 432x288 with 1 Axes>"
            ]
          },
          "metadata": {
            "needs_background": "light"
          }
        }
      ]
    },
    {
      "cell_type": "markdown",
      "metadata": {
        "id": "bbOle4BwE4L2"
      },
      "source": [
        "Now let's obtain the 2.5 and 97.5 percentiles for the slopes obtained via bootstrapping."
      ]
    },
    {
      "cell_type": "code",
      "metadata": {
        "colab": {
          "base_uri": "https://localhost:8080/"
        },
        "id": "my0E81YkGwCN",
        "outputId": "db22b117-08d6-4010-e1bc-78cd27a1a7a6"
      },
      "source": [
        "# Obtain the 2.5 and 97.5 percentiles for the slopes calculated above\n",
        "# Put the slopes into a numpy array\n",
        "Slope = np.array(Slope)\n",
        "# Sort the slopes\n",
        "Sort_Slope = np.sort(Slope)\n",
        "# Obtain the percentiles and display them\n",
        "Slope_limits = np.percentile(Sort_Slope, (2.5, 97.5))\n",
        "Slope_limits"
      ],
      "execution_count": 52,
      "outputs": [
        {
          "output_type": "execute_result",
          "data": {
            "text/plain": [
              "array([0.04178418, 0.05326877])"
            ]
          },
          "metadata": {},
          "execution_count": 52
        }
      ]
    },
    {
      "cell_type": "code",
      "metadata": {
        "colab": {
          "base_uri": "https://localhost:8080/",
          "height": 283
        },
        "id": "tfuLE-9Hoh2G",
        "outputId": "b1c40cea-9a44-493d-b324-e33c9edf9cb0"
      },
      "source": [
        "# Plot the slopes as well as markers for the upper and the lower percentile limits\n",
        "plt.hist(Slope, 50)\n",
        "plt.axvline(Slope_limits[0], color = 'r')\n",
        "plt.axvline(Slope_limits[1], color = 'r')"
      ],
      "execution_count": 54,
      "outputs": [
        {
          "output_type": "execute_result",
          "data": {
            "text/plain": [
              "<matplotlib.lines.Line2D at 0x7fca0ce7ab10>"
            ]
          },
          "metadata": {},
          "execution_count": 54
        },
        {
          "output_type": "display_data",
          "data": {
            "image/png": "[encoded data removed]",
            "text/plain": [
              "<Figure size 432x288 with 1 Axes>"
            ]
          },
          "metadata": {
            "needs_background": "light"
          }
        }
      ]
    }
  ]
}