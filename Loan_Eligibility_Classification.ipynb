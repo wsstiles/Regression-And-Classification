{
  "nbformat": 4,
  "nbformat_minor": 0,
  "metadata": {
    "colab": {
      "name": "Loan_Eligibility_Classification.ipynb",
      "provenance": [],
      "collapsed_sections": [
        "-Rlb274WDPy0"
      ]
    },
    "kernelspec": {
      "display_name": "Python 3",
      "language": "python",
      "name": "python3"
    },
    "language_info": {
      "codemirror_mode": {
        "name": "ipython",
        "version": 3
      },
      "file_extension": ".py",
      "mimetype": "text/x-python",
      "name": "python",
      "nbconvert_exporter": "python",
      "pygments_lexer": "ipython3",
      "version": "3.8.8"
    }
  },
  "cells": [
    {
      "cell_type": "markdown",
      "metadata": {
        "id": "VZKP0katDPx6"
      },
      "source": [
        "# Classification: Loan Eligibility Prediction\n",
        "\n",
        "Welcome to the project on classification of Load Eligibility prediction. We will use the credit risk dataset (**CreditRisk.csv**) for this problem.\n",
        "\n",
        "----------------\n",
        "## Context: \n",
        "----------------\n",
        "\n",
        "Credit risk is the risk of loss resulting from the failure by a borrower to repay principal and interest owed to the lender. The lender uses the interest payments from the loan to compensate for the risk of potential losses. When the borrower defaults on their obligations, it can cause an interruption of cash flow for the lender.\n",
        "\n",
        "In the banking sector this is a very important factor to be considered before approving a loan to an applicant, in order to cushion the lender from any loss of cash flow and to reduce the severity of losses.\n",
        "\n",
        "------------------\n",
        "## Objective:\n",
        "------------------\n",
        "\n",
        "Easy House is a finance company that deals in several varieties of home loans. They have a presence across urban, semi-urban, and rural areas. Currently, the customer first applies for a home loan post which the company validates the customer's eligibility for that loan. \n",
        "\n",
        "Now, the company wants to automate the loan eligibility process. They want to harness their past customers' data to build a model to predict whether the loan should be approved or not. This would help the company prevent potential losses, save time and focus more on eligible customers.\n",
        "\n",
        "--------------------------\n",
        "## Data Dictionary:\n",
        "--------------------------\n",
        "\n",
        "The data contains the following attributes:\n",
        "\n",
        "* **Loan_ID**: Unique Loan ID\n",
        "* **Gender**: Gender of the applicant - Male/Female\n",
        "* **Married**: Whether the applicant is married or not (Yes/No)\n",
        "* **Dependents**: Number of dependents of the applicant\n",
        "* **Education**: Applicant's education (Graduate/Not Graduate)\n",
        "* **Self_Employed**: Whether the applicant is self-employed (Yes/No)\n",
        "* **ApplicantIncome**: The income of the applicant (\\$)\n",
        "* **CoapplicantIncome**: The co-applicant's income in case of a joint loan and 0 otherwise (\\$)\n",
        "* **LoanAmount**: Loan amount (dollars in thousands) \n",
        "* **Loan_Amount_Term**: Term of loan in months\n",
        "* **Credit_History**: Whether the applicant's credit history meets required guidelines\n",
        "* **Property_Area**: The area the property pertaining to the loan belongs to - Urban/Semi-Urban/Rural\n",
        "* **Loan_Status**: Loan approved (1 - Yes, 0 - No)"
      ]
    },
    {
      "cell_type": "markdown",
      "metadata": {
        "id": "GLmC-0-fDPyI"
      },
      "source": [
        "## Importing necessary libraries and overview of the dataset"
      ]
    },
    {
      "cell_type": "code",
      "metadata": {
        "id": "zeF8YaNKDPyK"
      },
      "source": [
        "import pandas as pd\n",
        "import numpy as np\n",
        "import matplotlib.pyplot as plt\n",
        "import seaborn as sns\n",
        "\n",
        "# To scale the data using z-score \n",
        "from sklearn.preprocessing import StandardScaler\n",
        "from sklearn.model_selection import train_test_split\n",
        "\n",
        "# Algorithms to use\n",
        "from sklearn.linear_model import LogisticRegression\n",
        "from sklearn.neighbors import KNeighborsClassifier\n",
        "\n",
        "# Metrics to evaluate the model\n",
        "from sklearn.metrics import confusion_matrix, classification_report, precision_recall_curve\n",
        "\n",
        "import warnings\n",
        "warnings.filterwarnings(\"ignore\")"
      ],
      "execution_count": 1,
      "outputs": []
    },
    {
      "cell_type": "markdown",
      "metadata": {
        "id": "Xtgae1VCDPyO"
      },
      "source": [
        "#### Loading data"
      ]
    },
    {
      "cell_type": "code",
      "metadata": {
        "colab": {
          "resources": {
            "http://localhost:8080/nbextensions/google.colab/files.js": {
              "data": "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",
              "ok": true,
              "headers": [
                [
                  "content-type",
                  "application/javascript"
                ]
              ],
              "status": 200,
              "status_text": ""
            }
          },
          "base_uri": "https://localhost:8080/",
          "height": 72
        },
        "id": "wxUDP72g1N96",
        "outputId": "5da8cd09-bef2-47cc-cdf8-efc3300a0b22"
      },
      "source": [
        "# Import library necessary for file uploads\n",
        "from google.colab import files\n",
        "# Request the upload of the data file\n",
        "uploaded = files.upload()"
      ],
      "execution_count": 6,
      "outputs": [
        {
          "output_type": "display_data",
          "data": {
            "text/html": [
              "\n",
              "     <input type=\"file\" id=\"files-40e6166e-aba1-4150-a0b1-238b8ff37c90\" name=\"files[]\" multiple disabled\n",
              "        style=\"border:none\" />\n",
              "     <output id=\"result-40e6166e-aba1-4150-a0b1-238b8ff37c90\">\n",
              "      Upload widget is only available when the cell has been executed in the\n",
              "      current browser session. Please rerun this cell to enable.\n",
              "      </output>\n",
              "      <script src=\"/nbextensions/google.colab/files.js\"></script> "
            ],
            "text/plain": [
              "<IPython.core.display.HTML object>"
            ]
          },
          "metadata": {}
        },
        {
          "output_type": "stream",
          "name": "stdout",
          "text": [
            "Saving CreditRisk.csv to CreditRisk.csv\n"
          ]
        }
      ]
    },
    {
      "cell_type": "code",
      "metadata": {
        "id": "4VRuDPneDPyQ",
        "colab": {
          "base_uri": "https://localhost:8080/",
          "height": 204
        },
        "outputId": "8522c93d-eeca-4b4f-c9b2-32d87fbd933d"
      },
      "source": [
        "data = pd.read_csv(\"/content/CreditRisk.csv\")\n",
        "data.head()"
      ],
      "execution_count": 7,
      "outputs": [
        {
          "output_type": "execute_result",
          "data": {
            "text/html": [
              "<div>\n",
              "<style scoped>\n",
              "    .dataframe tbody tr th:only-of-type {\n",
              "        vertical-align: middle;\n",
              "    }\n",
              "\n",
              "    .dataframe tbody tr th {\n",
              "        vertical-align: top;\n",
              "    }\n",
              "\n",
              "    .dataframe thead th {\n",
              "        text-align: right;\n",
              "    }\n",
              "</style>\n",
              "<table border=\"1\" class=\"dataframe\">\n",
              "  <thead>\n",
              "    <tr style=\"text-align: right;\">\n",
              "      <th></th>\n",
              "      <th>Loan_ID</th>\n",
              "      <th>Gender</th>\n",
              "      <th>Married</th>\n",
              "      <th>Dependents</th>\n",
              "      <th>Education</th>\n",
              "      <th>Self_Employed</th>\n",
              "      <th>ApplicantIncome</th>\n",
              "      <th>CoapplicantIncome</th>\n",
              "      <th>LoanAmount</th>\n",
              "      <th>Loan_Amount_Term</th>\n",
              "      <th>Credit_History</th>\n",
              "      <th>Property_Area</th>\n",
              "      <th>Loan_Status</th>\n",
              "    </tr>\n",
              "  </thead>\n",
              "  <tbody>\n",
              "    <tr>\n",
              "      <th>0</th>\n",
              "      <td>LP001002</td>\n",
              "      <td>Male</td>\n",
              "      <td>No</td>\n",
              "      <td>0</td>\n",
              "      <td>Graduate</td>\n",
              "      <td>No</td>\n",
              "      <td>5849</td>\n",
              "      <td>0.0</td>\n",
              "      <td>0</td>\n",
              "      <td>360.0</td>\n",
              "      <td>1.0</td>\n",
              "      <td>Urban</td>\n",
              "      <td>1</td>\n",
              "    </tr>\n",
              "    <tr>\n",
              "      <th>1</th>\n",
              "      <td>LP001003</td>\n",
              "      <td>Male</td>\n",
              "      <td>Yes</td>\n",
              "      <td>1</td>\n",
              "      <td>Graduate</td>\n",
              "      <td>No</td>\n",
              "      <td>4583</td>\n",
              "      <td>1508.0</td>\n",
              "      <td>128</td>\n",
              "      <td>360.0</td>\n",
              "      <td>1.0</td>\n",
              "      <td>Rural</td>\n",
              "      <td>0</td>\n",
              "    </tr>\n",
              "    <tr>\n",
              "      <th>2</th>\n",
              "      <td>LP001005</td>\n",
              "      <td>Male</td>\n",
              "      <td>Yes</td>\n",
              "      <td>0</td>\n",
              "      <td>Graduate</td>\n",
              "      <td>Yes</td>\n",
              "      <td>3000</td>\n",
              "      <td>0.0</td>\n",
              "      <td>66</td>\n",
              "      <td>360.0</td>\n",
              "      <td>1.0</td>\n",
              "      <td>Urban</td>\n",
              "      <td>1</td>\n",
              "    </tr>\n",
              "    <tr>\n",
              "      <th>3</th>\n",
              "      <td>LP001006</td>\n",
              "      <td>Male</td>\n",
              "      <td>Yes</td>\n",
              "      <td>0</td>\n",
              "      <td>Not Graduate</td>\n",
              "      <td>No</td>\n",
              "      <td>2583</td>\n",
              "      <td>2358.0</td>\n",
              "      <td>120</td>\n",
              "      <td>360.0</td>\n",
              "      <td>1.0</td>\n",
              "      <td>Urban</td>\n",
              "      <td>1</td>\n",
              "    </tr>\n",
              "    <tr>\n",
              "      <th>4</th>\n",
              "      <td>LP001008</td>\n",
              "      <td>Male</td>\n",
              "      <td>No</td>\n",
              "      <td>0</td>\n",
              "      <td>Graduate</td>\n",
              "      <td>No</td>\n",
              "      <td>6000</td>\n",
              "      <td>0.0</td>\n",
              "      <td>141</td>\n",
              "      <td>360.0</td>\n",
              "      <td>1.0</td>\n",
              "      <td>Urban</td>\n",
              "      <td>1</td>\n",
              "    </tr>\n",
              "  </tbody>\n",
              "</table>\n",
              "</div>"
            ],
            "text/plain": [
              "    Loan_ID Gender Married  ... Credit_History Property_Area Loan_Status\n",
              "0  LP001002   Male      No  ...            1.0         Urban           1\n",
              "1  LP001003   Male     Yes  ...            1.0         Rural           0\n",
              "2  LP001005   Male     Yes  ...            1.0         Urban           1\n",
              "3  LP001006   Male     Yes  ...            1.0         Urban           1\n",
              "4  LP001008   Male      No  ...            1.0         Urban           1\n",
              "\n",
              "[5 rows x 13 columns]"
            ]
          },
          "metadata": {},
          "execution_count": 7
        }
      ]
    },
    {
      "cell_type": "markdown",
      "metadata": {
        "id": "7zmvKC9aDPya"
      },
      "source": [
        "#### Check the info of the data"
      ]
    },
    {
      "cell_type": "code",
      "metadata": {
        "id": "WFXzpvckDPyc",
        "colab": {
          "base_uri": "https://localhost:8080/"
        },
        "outputId": "538a5496-3333-4191-a1aa-91a87ed4bbe8"
      },
      "source": [
        "data.info()"
      ],
      "execution_count": 8,
      "outputs": [
        {
          "output_type": "stream",
          "name": "stdout",
          "text": [
            "<class 'pandas.core.frame.DataFrame'>\n",
            "RangeIndex: 614 entries, 0 to 613\n",
            "Data columns (total 13 columns):\n",
            " #   Column             Non-Null Count  Dtype  \n",
            "---  ------             --------------  -----  \n",
            " 0   Loan_ID            614 non-null    object \n",
            " 1   Gender             601 non-null    object \n",
            " 2   Married            611 non-null    object \n",
            " 3   Dependents         599 non-null    object \n",
            " 4   Education          614 non-null    object \n",
            " 5   Self_Employed      582 non-null    object \n",
            " 6   ApplicantIncome    614 non-null    int64  \n",
            " 7   CoapplicantIncome  614 non-null    float64\n",
            " 8   LoanAmount         614 non-null    int64  \n",
            " 9   Loan_Amount_Term   600 non-null    float64\n",
            " 10  Credit_History     564 non-null    float64\n",
            " 11  Property_Area      614 non-null    object \n",
            " 12  Loan_Status        614 non-null    int64  \n",
            "dtypes: float64(3), int64(3), object(7)\n",
            "memory usage: 62.5+ KB\n"
          ]
        }
      ]
    },
    {
      "cell_type": "markdown",
      "metadata": {
        "id": "zVm4D1InDPye"
      },
      "source": [
        "**Observations:**\n",
        "\n",
        "- There are 614 observations and 13 columns in the data.\n",
        "- ApplicantIncome, CoapplicantIncome, Loan_Amount_Term, Credit_History, and Loan_Status are numeric data types. The rest of the variables are of the object data type.\n",
        "- There are several columns with less than 614 non-null entries i.e. these columns have missing values.\n",
        "- Loan_ID column is an identifier. Let's check if each entry of the column is unique."
      ]
    },
    {
      "cell_type": "code",
      "metadata": {
        "id": "LypUFA5xb0jR",
        "colab": {
          "base_uri": "https://localhost:8080/"
        },
        "outputId": "e59cab05-ce03-45bc-b318-04708bf365f2"
      },
      "source": [
        "data.Loan_ID.nunique()"
      ],
      "execution_count": 9,
      "outputs": [
        {
          "output_type": "execute_result",
          "data": {
            "text/plain": [
              "614"
            ]
          },
          "metadata": {},
          "execution_count": 9
        }
      ]
    },
    {
      "cell_type": "markdown",
      "metadata": {
        "id": "xD9aPH3ub0jS"
      },
      "source": [
        "**Observations:**\n",
        "- We can see that all the entries of this column are unique. Hence, this column would not add any value to our analysis. \n",
        "- Let's drop this column."
      ]
    },
    {
      "cell_type": "markdown",
      "metadata": {
        "id": "__7ciGcIDPyk"
      },
      "source": [
        "## Exploratory Data Analysis and Data Preprocessing"
      ]
    },
    {
      "cell_type": "markdown",
      "metadata": {
        "id": "lDXcPkLkDPym"
      },
      "source": [
        "#### Dropping Loan_ID column"
      ]
    },
    {
      "cell_type": "code",
      "metadata": {
        "id": "_ei57w6EDPym"
      },
      "source": [
        "data.drop(columns=['Loan_ID'], inplace=True)"
      ],
      "execution_count": 10,
      "outputs": []
    },
    {
      "cell_type": "markdown",
      "metadata": {
        "id": "wU2dvaXZDPyn"
      },
      "source": [
        "#### Summary Statistics for numerical columns"
      ]
    },
    {
      "cell_type": "code",
      "metadata": {
        "id": "hWxLHPlVDPyp",
        "colab": {
          "base_uri": "https://localhost:8080/",
          "height": 297
        },
        "outputId": "fe458f22-e270-4676-bb95-3f796a19a4fd"
      },
      "source": [
        "# Creating a list of numerical columns\n",
        "num_cols = ['ApplicantIncome', 'CoapplicantIncome', 'LoanAmount', 'Loan_Amount_Term']\n",
        "\n",
        "# Print summary statistics for the list of columns\n",
        "data[num_cols].describe()"
      ],
      "execution_count": 11,
      "outputs": [
        {
          "output_type": "execute_result",
          "data": {
            "text/html": [
              "<div>\n",
              "<style scoped>\n",
              "    .dataframe tbody tr th:only-of-type {\n",
              "        vertical-align: middle;\n",
              "    }\n",
              "\n",
              "    .dataframe tbody tr th {\n",
              "        vertical-align: top;\n",
              "    }\n",
              "\n",
              "    .dataframe thead th {\n",
              "        text-align: right;\n",
              "    }\n",
              "</style>\n",
              "<table border=\"1\" class=\"dataframe\">\n",
              "  <thead>\n",
              "    <tr style=\"text-align: right;\">\n",
              "      <th></th>\n",
              "      <th>ApplicantIncome</th>\n",
              "      <th>CoapplicantIncome</th>\n",
              "      <th>LoanAmount</th>\n",
              "      <th>Loan_Amount_Term</th>\n",
              "    </tr>\n",
              "  </thead>\n",
              "  <tbody>\n",
              "    <tr>\n",
              "      <th>count</th>\n",
              "      <td>614.000000</td>\n",
              "      <td>614.000000</td>\n",
              "      <td>614.000000</td>\n",
              "      <td>600.00000</td>\n",
              "    </tr>\n",
              "    <tr>\n",
              "      <th>mean</th>\n",
              "      <td>5403.459283</td>\n",
              "      <td>1621.245798</td>\n",
              "      <td>141.166124</td>\n",
              "      <td>342.00000</td>\n",
              "    </tr>\n",
              "    <tr>\n",
              "      <th>std</th>\n",
              "      <td>6109.041673</td>\n",
              "      <td>2926.248369</td>\n",
              "      <td>88.340630</td>\n",
              "      <td>65.12041</td>\n",
              "    </tr>\n",
              "    <tr>\n",
              "      <th>min</th>\n",
              "      <td>150.000000</td>\n",
              "      <td>0.000000</td>\n",
              "      <td>0.000000</td>\n",
              "      <td>12.00000</td>\n",
              "    </tr>\n",
              "    <tr>\n",
              "      <th>25%</th>\n",
              "      <td>2877.500000</td>\n",
              "      <td>0.000000</td>\n",
              "      <td>98.000000</td>\n",
              "      <td>360.00000</td>\n",
              "    </tr>\n",
              "    <tr>\n",
              "      <th>50%</th>\n",
              "      <td>3812.500000</td>\n",
              "      <td>1188.500000</td>\n",
              "      <td>125.000000</td>\n",
              "      <td>360.00000</td>\n",
              "    </tr>\n",
              "    <tr>\n",
              "      <th>75%</th>\n",
              "      <td>5795.000000</td>\n",
              "      <td>2297.250000</td>\n",
              "      <td>164.750000</td>\n",
              "      <td>360.00000</td>\n",
              "    </tr>\n",
              "    <tr>\n",
              "      <th>max</th>\n",
              "      <td>81000.000000</td>\n",
              "      <td>41667.000000</td>\n",
              "      <td>700.000000</td>\n",
              "      <td>480.00000</td>\n",
              "    </tr>\n",
              "  </tbody>\n",
              "</table>\n",
              "</div>"
            ],
            "text/plain": [
              "       ApplicantIncome  CoapplicantIncome  LoanAmount  Loan_Amount_Term\n",
              "count       614.000000         614.000000  614.000000         600.00000\n",
              "mean       5403.459283        1621.245798  141.166124         342.00000\n",
              "std        6109.041673        2926.248369   88.340630          65.12041\n",
              "min         150.000000           0.000000    0.000000          12.00000\n",
              "25%        2877.500000           0.000000   98.000000         360.00000\n",
              "50%        3812.500000        1188.500000  125.000000         360.00000\n",
              "75%        5795.000000        2297.250000  164.750000         360.00000\n",
              "max       81000.000000       41667.000000  700.000000         480.00000"
            ]
          },
          "metadata": {},
          "execution_count": 11
        }
      ]
    },
    {
      "cell_type": "markdown",
      "metadata": {
        "id": "hy8l__giuqA_"
      },
      "source": [
        "**Observations:**\n",
        "- ApplicantIncome has a right skew with probable outliers, as the max is much higher than the Q3 value.\n",
        "- CoapplicantIncome seems to have potential outliers to the right, there also seems to be a large number of applications with no CoapplicantIncome.\n",
        "- LoanAmount has a slight skew, with possible outliers to the right since we see a large jump from the Q3 value to the max value.\n",
        "- Loan_Amount_Term is heavily lumped at the 360 month mark, since Q1, Median, and Q3 values all sit at 360 months. There also seems to be some outliers to the left, seeing a min loan term at 12 months."
      ]
    },
    {
      "cell_type": "markdown",
      "metadata": {
        "id": "aIVFJ11IDPyu"
      },
      "source": [
        "#### Feature Engineering"
      ]
    },
    {
      "cell_type": "code",
      "metadata": {
        "id": "iA9yPLMGDPyu"
      },
      "source": [
        "# Convert the scale of loan term from months to years\n",
        "data['Loan_Amount_Term']=data['Loan_Amount_Term']/12"
      ],
      "execution_count": 12,
      "outputs": []
    },
    {
      "cell_type": "code",
      "metadata": {
        "id": "7FQ6Oo6UDPyv"
      },
      "source": [
        "# Add the applicant and co-applicant income to get the total income per application\n",
        "data['total_income']=data['ApplicantIncome'] + data['CoapplicantIncome']"
      ],
      "execution_count": 13,
      "outputs": []
    },
    {
      "cell_type": "code",
      "metadata": {
        "id": "-VIN5xybDPyw"
      },
      "source": [
        "# Drop the columns as we created a new column which captures the same information\n",
        "data.drop(columns=['ApplicantIncome', 'CoapplicantIncome'], inplace=True)"
      ],
      "execution_count": 14,
      "outputs": []
    },
    {
      "cell_type": "markdown",
      "metadata": {
        "id": "BRkQPSCQDPyx"
      },
      "source": [
        "#### Check the distribution and outliers for each column in the data"
      ]
    },
    {
      "cell_type": "code",
      "metadata": {
        "id": "Ep2s-qpXDPyx",
        "colab": {
          "base_uri": "https://localhost:8080/",
          "height": 610
        },
        "outputId": "099475cf-772b-4f5f-9085-7b797f8442cb"
      },
      "source": [
        "# Print boxplots and histograms for each column in the dataframe\n",
        "for col in ['LoanAmount', 'total_income']:\n",
        "    print(col)\n",
        "    print('Skew :',round(data[col].skew(),2))\n",
        "    plt.figure(figsize=(15,4))\n",
        "    plt.subplot(1,2,1)\n",
        "    data[col].hist(bins=10, grid=False)\n",
        "    plt.ylabel('count')\n",
        "    plt.subplot(1,2,2)\n",
        "    sns.boxplot(x=data[col])\n",
        "    plt.show()"
      ],
      "execution_count": 15,
      "outputs": [
        {
          "output_type": "stream",
          "name": "stdout",
          "text": [
            "LoanAmount\n",
            "Skew : 2.36\n"
          ]
        },
        {
          "output_type": "display_data",
          "data": {
            "image/png": "[encoded data removed]",
            "text/plain": [
              "<Figure size 1080x288 with 2 Axes>"
            ]
          },
          "metadata": {
            "needs_background": "light"
          }
        },
        {
          "output_type": "stream",
          "name": "stdout",
          "text": [
            "total_income\n",
            "Skew : 5.63\n"
          ]
        },
        {
          "output_type": "display_data",
          "data": {
            "image/png": "[encoded data removed]",
            "text/plain": [
              "<Figure size 1080x288 with 2 Axes>"
            ]
          },
          "metadata": {
            "needs_background": "light"
          }
        }
      ]
    },
    {
      "cell_type": "markdown",
      "metadata": {
        "id": "bIaj6W_MDPyz"
      },
      "source": [
        "**Observations:**\n",
        "\n",
        "- Both the variables are highly skewed to the right and have many outliers which can be expected as the data contains different types of areas - Rural, Urban & Semi-Urban. \n",
        "- We can observe from the histogram that majority of values for total income are less than 10,000K dollars.\n",
        "\n",
        "Now, let's check the percentage of observations in each category for all the categorical variables."
      ]
    },
    {
      "cell_type": "markdown",
      "metadata": {
        "id": "-Rlb274WDPy0"
      },
      "source": [
        "#### Checking percentage of each category for categorical variables"
      ]
    },
    {
      "cell_type": "code",
      "metadata": {
        "id": "x0l5pOwZDPy1",
        "colab": {
          "base_uri": "https://localhost:8080/"
        },
        "outputId": "00e15d20-83cd-4f45-e552-b8081448d1aa"
      },
      "source": [
        "# Create a list of categorical columns\n",
        "cat_col= ['Gender', 'Married', 'Dependents', 'Education', 'Self_Employed', 'Credit_History','Property_Area', 'Loan_Status']\n",
        "\n",
        "# Print formatted output to display percentages for categorical variables\n",
        "for col in cat_col:\n",
        "    print(data[col].value_counts(normalize=True))\n",
        "    print('*'*40)"
      ],
      "execution_count": 16,
      "outputs": [
        {
          "output_type": "stream",
          "name": "stdout",
          "text": [
            "Male      0.813644\n",
            "Female    0.186356\n",
            "Name: Gender, dtype: float64\n",
            "****************************************\n",
            "Yes    0.651391\n",
            "No     0.348609\n",
            "Name: Married, dtype: float64\n",
            "****************************************\n",
            "0     0.575960\n",
            "1     0.170284\n",
            "2     0.168614\n",
            "3+    0.085142\n",
            "Name: Dependents, dtype: float64\n",
            "****************************************\n",
            "Graduate        0.781759\n",
            "Not Graduate    0.218241\n",
            "Name: Education, dtype: float64\n",
            "****************************************\n",
            "No     0.859107\n",
            "Yes    0.140893\n",
            "Name: Self_Employed, dtype: float64\n",
            "****************************************\n",
            "1.0    0.842199\n",
            "0.0    0.157801\n",
            "Name: Credit_History, dtype: float64\n",
            "****************************************\n",
            "Semiurban    0.379479\n",
            "Urban        0.328990\n",
            "Rural        0.291531\n",
            "Name: Property_Area, dtype: float64\n",
            "****************************************\n",
            "1    0.687296\n",
            "0    0.312704\n",
            "Name: Loan_Status, dtype: float64\n",
            "****************************************\n"
          ]
        }
      ]
    },
    {
      "cell_type": "markdown",
      "metadata": {
        "id": "fUwYF11gwy-5"
      },
      "source": [
        "**Observations:**\n",
        "- 81% of applicants are Male, while roughly 19% are Female.\n",
        "- Around 65% of applicants are Married.\n",
        "- Most applicants (around 57%) have no dependents.\n",
        "- Around 78% of applicants are graduates.\n",
        "- Around 86% of applicants are self employed.\n",
        "- Around 16% of applicants do not meet credit requirements.\n",
        "- There is a relatively even mix of Urban, Semi-urban, and Rural property areas.\n",
        "- Around 31% of applicants have not yet been approved for a loan."
      ]
    },
    {
      "cell_type": "markdown",
      "metadata": {
        "id": "ukUAlvRtDPy3"
      },
      "source": [
        "#### Imputing missing values"
      ]
    },
    {
      "cell_type": "code",
      "metadata": {
        "id": "G-QGGBGJDPy4"
      },
      "source": [
        "# Impute missing values with mode for the categorical variables \n",
        "for col in ['Gender', 'Married', 'Dependents', 'Self_Employed', 'Loan_Amount_Term', 'Credit_History']:\n",
        "    data[col].fillna(value=data[col].mode()[0], inplace=True)"
      ],
      "execution_count": 17,
      "outputs": []
    },
    {
      "cell_type": "code",
      "metadata": {
        "id": "rS94M4lcDPy5"
      },
      "source": [
        "# Replace values of 0 with null values in loan amount \n",
        "data.LoanAmount.replace(0, np.nan, inplace=True)\n",
        "\n",
        "# Impute null values in loan amount with the median\n",
        "data.LoanAmount.fillna(value=data.LoanAmount.median(), inplace=True)"
      ],
      "execution_count": 18,
      "outputs": []
    },
    {
      "cell_type": "markdown",
      "metadata": {
        "id": "EhDZ1oRaDPy6"
      },
      "source": [
        "**We are done with the data preprocessing. Let's explore the data a bit more with bivariate analysis.**\n",
        "\n",
        "Let's check the relationship of loan amount with the total income."
      ]
    },
    {
      "cell_type": "code",
      "metadata": {
        "id": "Nt-knNhSDPy7",
        "colab": {
          "base_uri": "https://localhost:8080/",
          "height": 388
        },
        "outputId": "c677c66c-2639-43a0-d8c6-46781f8e8127"
      },
      "source": [
        "# Print a regression plot for loan amount vs total income\n",
        "plt.figure(figsize=(10,6))\n",
        "sns.regplot(x='LoanAmount', y='total_income', data=data)\n",
        "plt.show()"
      ],
      "execution_count": 19,
      "outputs": [
        {
          "output_type": "display_data",
          "data": {
            "image/png": "[encoded data removed]",
            "text/plain": [
              "<Figure size 720x432 with 1 Axes>"
            ]
          },
          "metadata": {
            "needs_background": "light"
          }
        }
      ]
    },
    {
      "cell_type": "markdown",
      "metadata": {
        "id": "T2Snl5awDPy8"
      },
      "source": [
        "**Observations:**\n",
        "- The plot shows that the loan amount is positively correlated with total income. This implies that the loan amount for higher-income applicants is progressively higher.\n",
        "- There are some outliers visible, showing applicants with low income having been given loans of a higher amount."
      ]
    },
    {
      "cell_type": "markdown",
      "metadata": {
        "id": "PVbble7sb0jp"
      },
      "source": [
        "Let's check the relationship of total income with loan status"
      ]
    },
    {
      "cell_type": "code",
      "metadata": {
        "id": "_zfwsl2MDPy8",
        "colab": {
          "base_uri": "https://localhost:8080/",
          "height": 297
        },
        "outputId": "845cd928-38a1-4a44-ab8a-074980838228"
      },
      "source": [
        "sns.boxplot(x=data.Loan_Status, y=data.total_income)"
      ],
      "execution_count": 20,
      "outputs": [
        {
          "output_type": "execute_result",
          "data": {
            "text/plain": [
              "<matplotlib.axes._subplots.AxesSubplot at 0x7f1dbddf6390>"
            ]
          },
          "metadata": {},
          "execution_count": 20
        },
        {
          "output_type": "display_data",
          "data": {
            "image/png": "[encoded data removed]",
            "text/plain": [
              "<Figure size 432x288 with 1 Axes>"
            ]
          },
          "metadata": {
            "needs_background": "light"
          }
        }
      ]
    },
    {
      "cell_type": "markdown",
      "metadata": {
        "id": "4cY1RUPpDPy-"
      },
      "source": [
        "**Observations:**\n",
        "- Except for some outliers, there is no major difference between the income of those customers who are eligible versus those who are not. \n",
        "- This implies that income alone might not be a good indicator of a customer's loan eligibility."
      ]
    },
    {
      "cell_type": "markdown",
      "metadata": {
        "id": "1jI1J2bkb0jq"
      },
      "source": [
        "Let's check how credit history is related to loan status"
      ]
    },
    {
      "cell_type": "code",
      "metadata": {
        "id": "-rQnVxvdDPy_",
        "colab": {
          "base_uri": "https://localhost:8080/",
          "height": 297
        },
        "outputId": "94e0b67a-b617-4b74-f26a-148dfbe1573f"
      },
      "source": [
        "sns.countplot(x=data.Credit_History, hue=data.Loan_Status)"
      ],
      "execution_count": 21,
      "outputs": [
        {
          "output_type": "execute_result",
          "data": {
            "text/plain": [
              "<matplotlib.axes._subplots.AxesSubplot at 0x7f1dbdd83e90>"
            ]
          },
          "metadata": {},
          "execution_count": 21
        },
        {
          "output_type": "display_data",
          "data": {
            "image/png": "[encoded data removed]",
            "text/plain": [
              "<Figure size 432x288 with 1 Axes>"
            ]
          },
          "metadata": {
            "needs_background": "light"
          }
        }
      ]
    },
    {
      "cell_type": "markdown",
      "metadata": {
        "id": "UJxePuBoDPzA"
      },
      "source": [
        "**Observations:**\n",
        "- The plot shows that credit history is an important factor while checking loan eligibility. There are very few customers whose loan was approved even when their credit history did not meet required guidelines."
      ]
    },
    {
      "cell_type": "markdown",
      "metadata": {
        "id": "hGn6jFYgb0kG"
      },
      "source": [
        "Let's check the relationship between education and loan status."
      ]
    },
    {
      "cell_type": "code",
      "metadata": {
        "id": "aGrFWboqDPzB",
        "colab": {
          "base_uri": "https://localhost:8080/",
          "height": 296
        },
        "outputId": "8a38f4df-ff3c-46ae-abcd-30c42ca9f955"
      },
      "source": [
        "sns.countplot(x=data.Education, hue=data.Loan_Status)"
      ],
      "execution_count": 22,
      "outputs": [
        {
          "output_type": "execute_result",
          "data": {
            "text/plain": [
              "<matplotlib.axes._subplots.AxesSubplot at 0x7f1dbdd81bd0>"
            ]
          },
          "metadata": {},
          "execution_count": 22
        },
        {
          "output_type": "display_data",
          "data": {
            "image/png": "[encoded data removed]",
            "text/plain": [
              "<Figure size 432x288 with 1 Axes>"
            ]
          },
          "metadata": {
            "needs_background": "light"
          }
        }
      ]
    },
    {
      "cell_type": "markdown",
      "metadata": {
        "id": "bkbSi9QdDPzC"
      },
      "source": [
        "**Observations:**\n",
        "- We can see that graduate customers are more likely to get loans.\n",
        "- This might be because, in general, graduate customers have higher income when compared to non-graduates. Let's check if this is true."
      ]
    },
    {
      "cell_type": "code",
      "metadata": {
        "id": "HjP1fFroDPzD",
        "colab": {
          "base_uri": "https://localhost:8080/",
          "height": 296
        },
        "outputId": "c509e25d-a63b-4a32-e1b7-d4a5f6a8b477"
      },
      "source": [
        "sns.boxplot(x=data.Education, y=data.total_income)"
      ],
      "execution_count": 23,
      "outputs": [
        {
          "output_type": "execute_result",
          "data": {
            "text/plain": [
              "<matplotlib.axes._subplots.AxesSubplot at 0x7f1dbdc6de50>"
            ]
          },
          "metadata": {},
          "execution_count": 23
        },
        {
          "output_type": "display_data",
          "data": {
            "image/png": "[encoded data removed]",
            "text/plain": [
              "<Figure size 432x288 with 1 Axes>"
            ]
          },
          "metadata": {
            "needs_background": "light"
          }
        }
      ]
    },
    {
      "cell_type": "markdown",
      "metadata": {
        "id": "xOVzdKwxDPzE"
      },
      "source": [
        "**Observations:**\n",
        "- We can see that this does appear to be true; graduate customers seem to earn more on average."
      ]
    },
    {
      "cell_type": "markdown",
      "metadata": {
        "id": "uJpSDK7pb0kN"
      },
      "source": [
        "Let's check how property area is related with loan status"
      ]
    },
    {
      "cell_type": "code",
      "metadata": {
        "id": "uW4DfezQDPzF",
        "colab": {
          "base_uri": "https://localhost:8080/",
          "height": 297
        },
        "outputId": "bcaba799-cc8a-44b0-d76e-7be38e433bb8"
      },
      "source": [
        "sns.countplot(x=data.Property_Area, hue=data.Loan_Status)"
      ],
      "execution_count": 24,
      "outputs": [
        {
          "output_type": "execute_result",
          "data": {
            "text/plain": [
              "<matplotlib.axes._subplots.AxesSubplot at 0x7f1dbdbf3b10>"
            ]
          },
          "metadata": {},
          "execution_count": 24
        },
        {
          "output_type": "display_data",
          "data": {
            "image/png": "[encoded data removed]",
            "text/plain": [
              "<Figure size 432x288 with 1 Axes>"
            ]
          },
          "metadata": {
            "needs_background": "light"
          }
        }
      ]
    },
    {
      "cell_type": "markdown",
      "metadata": {
        "id": "5Od0NdHRDPzG"
      },
      "source": [
        "**Observations:**\n",
        "\n",
        "- The plot shows that more loans are approved for properties in semi-urban areas. \n",
        "- This could be due to several reasons. The bank might be charging higher interest rates for semi-urban areas or the current customer base of the company from semi-urban areas might actually be more eligible for home loans based on loan applicant features. We cannot be certain as we don't have the data to support this claim.\n",
        "\n",
        "**Now that we have processed and explored our data, let's prepare it for modeling.**"
      ]
    },
    {
      "cell_type": "markdown",
      "metadata": {
        "id": "3NtIHppoDPzH"
      },
      "source": [
        "## Preparing data for modeling"
      ]
    },
    {
      "cell_type": "markdown",
      "metadata": {
        "id": "N6RcR8FrDPzH"
      },
      "source": [
        "- Models cannot take non-numeric inputs. So, we will first create dummy variables for all the categorical variables.\n",
        "- We will then split the data into train and test sets.\n",
        "\n",
        "We begin by separating the target variable from the other variables."
      ]
    },
    {
      "cell_type": "code",
      "metadata": {
        "id": "mnL99NcgDPzI"
      },
      "source": [
        "# Separate target variable and other variables\n",
        "X = data.drop(columns=['Loan_Status'])\n",
        "Y = data.Loan_Status"
      ],
      "execution_count": 25,
      "outputs": []
    },
    {
      "cell_type": "code",
      "metadata": {
        "id": "AGlNuXAkDPzJ"
      },
      "source": [
        "# Create dummy variables, using drop_first=True to avoid redundant variables\n",
        "X = pd.get_dummies(X, drop_first=True)"
      ],
      "execution_count": 26,
      "outputs": []
    },
    {
      "cell_type": "code",
      "metadata": {
        "id": "UR6NWZNnDPzK"
      },
      "source": [
        "# Split the data into train and test sets\n",
        "X_train, X_test, y_train, y_test = train_test_split(X, Y, test_size=0.30, random_state=1)"
      ],
      "execution_count": 27,
      "outputs": []
    },
    {
      "cell_type": "markdown",
      "metadata": {
        "id": "x9Ycp1rkDPzL"
      },
      "source": [
        "## Building Classification Models"
      ]
    },
    {
      "cell_type": "markdown",
      "metadata": {
        "id": "fajKKlPmDPzM"
      },
      "source": [
        "**Before training the model, let's choose the appropriate model evaluation criterion as per the problem on hand.**\n",
        "\n",
        "### Model evaluation criterion:\n",
        "\n",
        "#### Since this is a binary classification problem, the model can make wrong predictions in one of two ways:\n",
        "1. Predicting a customer is not eligible for a loan when the customer actually is eligible - Loss of opportunity\n",
        "2. Predicting a customer is eligible for a loan when the customer is actually not - Financial loss\n",
        "\n",
        "#### Which case is more important? \n",
        "* Predicting that the customer is eligible when he is not, because the person might default or not be able to return the loan, which would result in financial loss to the company.\n",
        "\n",
        "#### How to reduce this loss i.e need to reduce False Negatives?\n",
        "* In classification, the class of interest is considered the positive class. Here, the class of interest is 0 i.e. identifying non-eligible customers. So, the company wants to minimize the number of false negatives, in other words **Recall** is the evaluation criterion to be maximized."
      ]
    },
    {
      "cell_type": "markdown",
      "metadata": {
        "id": "3hUiY1AgDPzN"
      },
      "source": [
        "Also, let's create a function to calculate and print the classification report and confusion matrix so that we don't have to rewrite the same code repeatedly for each model."
      ]
    },
    {
      "cell_type": "code",
      "metadata": {
        "id": "VxiT1LhpDPzN"
      },
      "source": [
        "# A function to print the classification report and confusion matrix\n",
        "def metrics_score(actual, predicted):\n",
        "    print(classification_report(actual, predicted))\n",
        "    cm = confusion_matrix(actual, predicted)\n",
        "    plt.figure(figsize=(8,5))\n",
        "    sns.heatmap(cm, annot=True,  fmt='.2f', xticklabels=['Not Eligible', 'Eligible'], yticklabels=['Not Eligible', 'Eligible'])\n",
        "    plt.ylabel('Actual')\n",
        "    plt.xlabel('Predicted')\n",
        "    plt.show()"
      ],
      "execution_count": 28,
      "outputs": []
    },
    {
      "cell_type": "markdown",
      "metadata": {
        "id": "KtY-QagUDPzO"
      },
      "source": [
        "### Logistic Regression"
      ]
    },
    {
      "cell_type": "markdown",
      "metadata": {
        "id": "GG9G-wVsb0kZ"
      },
      "source": [
        "We begin by fitting the logistic regression model on the training dataset."
      ]
    },
    {
      "cell_type": "code",
      "metadata": {
        "id": "ZQCUzmrdDPzO",
        "colab": {
          "base_uri": "https://localhost:8080/"
        },
        "outputId": "9bccd47a-86df-4588-9ae1-cc31023b84ad"
      },
      "source": [
        "# Initialize the logistic regression model \n",
        "log_reg = LogisticRegression(random_state=1)\n",
        "\n",
        "# Fit the model with the training data\n",
        "log_reg.fit(X_train, y_train)\n",
        "\n"
      ],
      "execution_count": 30,
      "outputs": [
        {
          "output_type": "execute_result",
          "data": {
            "text/plain": [
              "LogisticRegression(C=1.0, class_weight=None, dual=False, fit_intercept=True,\n",
              "                   intercept_scaling=1, l1_ratio=None, max_iter=100,\n",
              "                   multi_class='auto', n_jobs=None, penalty='l2',\n",
              "                   random_state=1, solver='lbfgs', tol=0.0001, verbose=0,\n",
              "                   warm_start=False)"
            ]
          },
          "metadata": {},
          "execution_count": 30
        }
      ]
    },
    {
      "cell_type": "markdown",
      "metadata": {
        "id": "-GGajC53DPzP"
      },
      "source": [
        "**Let's check the coefficient of each dependent variable in the data**"
      ]
    },
    {
      "cell_type": "code",
      "metadata": {
        "id": "DUs6dFjdDPzQ",
        "colab": {
          "base_uri": "https://localhost:8080/"
        },
        "outputId": "ecf32856-361a-47e7-d997-266065e5fbe6"
      },
      "source": [
        "# Obtain the coefficient of each dependent variable\n",
        "pd.Series(log_reg.coef_[0], index=X_train.columns).sort_values(ascending=False)"
      ],
      "execution_count": 32,
      "outputs": [
        {
          "output_type": "execute_result",
          "data": {
            "text/plain": [
              "Credit_History             3.026215\n",
              "Property_Area_Semiurban    0.821582\n",
              "Married_Yes                0.189412\n",
              "Dependents_2               0.154739\n",
              "Dependents_3+              0.113786\n",
              "total_income              -0.000010\n",
              "LoanAmount                -0.000474\n",
              "Property_Area_Urban       -0.006442\n",
              "Loan_Amount_Term          -0.065874\n",
              "Self_Employed_Yes         -0.098509\n",
              "Gender_Male               -0.106000\n",
              "Dependents_1              -0.145727\n",
              "Education_Not Graduate    -0.491741\n",
              "dtype: float64"
            ]
          },
          "metadata": {},
          "execution_count": 32
        }
      ]
    },
    {
      "cell_type": "markdown",
      "metadata": {
        "id": "IpPP1F8xxCSy"
      },
      "source": [
        "**Observations:**\n",
        "- Credit History has a very high weight coefficient in this logistic regression model.  As we saw earlier, an applicant's credit history seemed to have a high correlation to whether or not the applicant was eligible for a loan.\n",
        "- The next largest coefficient is defined for property areas in Semi-urban neighborhoods.  We have also seen a similar correlation between this category and the eligibility of the applicant for a loan.\n",
        "- Lack of graduate education accounts for a significant negative coefficient in determining eligibility for a loan."
      ]
    },
    {
      "cell_type": "code",
      "metadata": {
        "id": "SdRYNh2sb0ke",
        "colab": {
          "base_uri": "https://localhost:8080/",
          "height": 452
        },
        "outputId": "ae0445ba-2cb5-4098-82d8-89c1fb93000a"
      },
      "source": [
        "# Determine the odds calculated from the logistic regression model coefficients\n",
        "odds = np.exp(log_reg.coef_[0])\n",
        "\n",
        "# Add the odds to a dataframe and sort the values in descending order\n",
        "pd.DataFrame(odds, X_train.columns, columns=['odds']).sort_values(by='odds', ascending=False) "
      ],
      "execution_count": 33,
      "outputs": [
        {
          "output_type": "execute_result",
          "data": {
            "text/html": [
              "<div>\n",
              "<style scoped>\n",
              "    .dataframe tbody tr th:only-of-type {\n",
              "        vertical-align: middle;\n",
              "    }\n",
              "\n",
              "    .dataframe tbody tr th {\n",
              "        vertical-align: top;\n",
              "    }\n",
              "\n",
              "    .dataframe thead th {\n",
              "        text-align: right;\n",
              "    }\n",
              "</style>\n",
              "<table border=\"1\" class=\"dataframe\">\n",
              "  <thead>\n",
              "    <tr style=\"text-align: right;\">\n",
              "      <th></th>\n",
              "      <th>odds</th>\n",
              "    </tr>\n",
              "  </thead>\n",
              "  <tbody>\n",
              "    <tr>\n",
              "      <th>Credit_History</th>\n",
              "      <td>20.619043</td>\n",
              "    </tr>\n",
              "    <tr>\n",
              "      <th>Property_Area_Semiurban</th>\n",
              "      <td>2.274095</td>\n",
              "    </tr>\n",
              "    <tr>\n",
              "      <th>Married_Yes</th>\n",
              "      <td>1.208539</td>\n",
              "    </tr>\n",
              "    <tr>\n",
              "      <th>Dependents_2</th>\n",
              "      <td>1.167353</td>\n",
              "    </tr>\n",
              "    <tr>\n",
              "      <th>Dependents_3+</th>\n",
              "      <td>1.120512</td>\n",
              "    </tr>\n",
              "    <tr>\n",
              "      <th>total_income</th>\n",
              "      <td>0.999990</td>\n",
              "    </tr>\n",
              "    <tr>\n",
              "      <th>LoanAmount</th>\n",
              "      <td>0.999526</td>\n",
              "    </tr>\n",
              "    <tr>\n",
              "      <th>Property_Area_Urban</th>\n",
              "      <td>0.993578</td>\n",
              "    </tr>\n",
              "    <tr>\n",
              "      <th>Loan_Amount_Term</th>\n",
              "      <td>0.936249</td>\n",
              "    </tr>\n",
              "    <tr>\n",
              "      <th>Self_Employed_Yes</th>\n",
              "      <td>0.906187</td>\n",
              "    </tr>\n",
              "    <tr>\n",
              "      <th>Gender_Male</th>\n",
              "      <td>0.899425</td>\n",
              "    </tr>\n",
              "    <tr>\n",
              "      <th>Dependents_1</th>\n",
              "      <td>0.864393</td>\n",
              "    </tr>\n",
              "    <tr>\n",
              "      <th>Education_Not Graduate</th>\n",
              "      <td>0.611561</td>\n",
              "    </tr>\n",
              "  </tbody>\n",
              "</table>\n",
              "</div>"
            ],
            "text/plain": [
              "                              odds\n",
              "Credit_History           20.619043\n",
              "Property_Area_Semiurban   2.274095\n",
              "Married_Yes               1.208539\n",
              "Dependents_2              1.167353\n",
              "Dependents_3+             1.120512\n",
              "total_income              0.999990\n",
              "LoanAmount                0.999526\n",
              "Property_Area_Urban       0.993578\n",
              "Loan_Amount_Term          0.936249\n",
              "Self_Employed_Yes         0.906187\n",
              "Gender_Male               0.899425\n",
              "Dependents_1              0.864393\n",
              "Education_Not Graduate    0.611561"
            ]
          },
          "metadata": {},
          "execution_count": 33
        }
      ]
    },
    {
      "cell_type": "markdown",
      "metadata": {
        "id": "yKfopkPjxID_"
      },
      "source": [
        "**Observations:**\n",
        "- The odds of an applicant obtaining a loan with good credit history is **20.62 times** the odds of an applicant with poor credit history.\n",
        "- Those applying for loans in Semi-urban areas are **more than twice** as likely to obtain a loan than those in Urban areas.\n",
        "- Applicants that are married are more **1.2 times** more likely to obtain a loan than those who are not."
      ]
    },
    {
      "cell_type": "markdown",
      "metadata": {
        "id": "jdRHileGDPzT"
      },
      "source": [
        "**Now, let's check the performance of the model on the training set.** To do this we will use the model to create a prediction using the training data and then using the **metrics_score()** function that we defined earlier, we will run a classification report and display a confusion matrix to evaluate the performance of the prediction."
      ]
    },
    {
      "cell_type": "code",
      "metadata": {
        "id": "AVAZY2p-DPzU",
        "colab": {
          "base_uri": "https://localhost:8080/",
          "height": 487
        },
        "outputId": "3e66cca1-cdab-42e9-b4e1-da833e663bf6"
      },
      "source": [
        "# Use the logistic model to create a prediction on the training data \n",
        "y_pred_train = log_reg.predict(X_train)\n",
        "\n",
        "# Check the performance on the training data\n",
        "metrics_score(y_train, y_pred_train)\n"
      ],
      "execution_count": 34,
      "outputs": [
        {
          "output_type": "stream",
          "name": "stdout",
          "text": [
            "              precision    recall  f1-score   support\n",
            "\n",
            "           0       0.91      0.44      0.59       131\n",
            "           1       0.80      0.98      0.88       298\n",
            "\n",
            "    accuracy                           0.82       429\n",
            "   macro avg       0.85      0.71      0.74       429\n",
            "weighted avg       0.83      0.82      0.79       429\n",
            "\n"
          ]
        },
        {
          "output_type": "display_data",
          "data": {
            "image/png": "[encoded data removed]",
            "text/plain": [
              "<Figure size 576x360 with 2 Axes>"
            ]
          },
          "metadata": {
            "needs_background": "light"
          }
        }
      ]
    },
    {
      "cell_type": "markdown",
      "metadata": {
        "id": "lb9dV9I4DPzW"
      },
      "source": [
        "**Reading confusion matrix (clockwise):**\n",
        "\n",
        "- **True Positive**: Predicting the customer is not eligible and the customer is actually not eligible\n",
        "- **False Negative**: Predicting the customer is eligible but the customer is actually not eligible\n",
        "- **True Negative**: Predicting the customer is eligible and the customer is actually eligible\n",
        "- **False Positive**: Predicting the customer is not eligible but the customer is actually eligible"
      ]
    },
    {
      "cell_type": "markdown",
      "metadata": {
        "id": "M9cN7fTq7RGC"
      },
      "source": [
        "**Observations:**\n",
        "- We are getting an accuracy of 82% on the training data.\n",
        "- However the Recall on class 0 was only 44% on the training data.\n",
        "- We can see from the confusion matrix that we are picking up a significant number of cases where the model predicts that the applicant is eligible, but is actually not eligible.\n",
        "- This tells us that our model is not the best at determining when ineligible customers are actually ineligible, which we have already stated is the worst case scenario."
      ]
    },
    {
      "cell_type": "markdown",
      "metadata": {
        "id": "CEvDJFiFb0kl"
      },
      "source": [
        "**Precision-Recall Curve for Logistic Regression**"
      ]
    },
    {
      "cell_type": "code",
      "metadata": {
        "id": "xd2N6ZdpDPzW",
        "colab": {
          "base_uri": "https://localhost:8080/",
          "height": 446
        },
        "outputId": "d0046711-ce6c-4c0c-ec34-985b15586b96"
      },
      "source": [
        "# Determine the probability of each observation belonging to each class\n",
        "y_scores=log_reg.predict_proba(X_train)\n",
        "\n",
        "# Obtain information from the precision recall curve\n",
        "precisions, recalls, thresholds = precision_recall_curve(y_train, y_scores[:,1])\n",
        "\n",
        "# Plot values of precisions, recalls, and thresholds\n",
        "plt.figure(figsize=(10,7))\n",
        "plt.plot(thresholds, precisions[:-1], 'b--', label='precision')\n",
        "plt.plot(thresholds, recalls[:-1], 'g--', label = 'recall')\n",
        "plt.xlabel('Threshold')\n",
        "plt.legend(loc='upper left')\n",
        "plt.ylim([0,1])\n",
        "plt.show()"
      ],
      "execution_count": 35,
      "outputs": [
        {
          "output_type": "display_data",
          "data": {
            "image/png": "[encoded data removed]",
            "text/plain": [
              "<Figure size 720x504 with 1 Axes>"
            ]
          },
          "metadata": {
            "needs_background": "light"
          }
        }
      ]
    },
    {
      "cell_type": "markdown",
      "metadata": {
        "id": "QWO8v_IPb0ko"
      },
      "source": [
        "**Observations:**\n",
        "- We can see that precision and recall are balanced for threshold of about 0.7.\n",
        "- Let's try to calculate the exact threshold where precision and recall are equal."
      ]
    },
    {
      "cell_type": "code",
      "metadata": {
        "id": "25j4jYZCb0ko",
        "colab": {
          "base_uri": "https://localhost:8080/"
        },
        "outputId": "0cea5187-1cce-40fe-b134-546778d3dd27"
      },
      "source": [
        "# Calculate the exact threshold where precision and recall are equal.\n",
        "for i in np.arange(len(thresholds)):\n",
        "    if precisions[i]==recalls[i]:\n",
        "        print(thresholds[i])"
      ],
      "execution_count": 36,
      "outputs": [
        {
          "output_type": "stream",
          "name": "stdout",
          "text": [
            "0.7222027953828439\n"
          ]
        }
      ]
    },
    {
      "cell_type": "markdown",
      "metadata": {
        "id": "4gxy8CC7b0k2"
      },
      "source": [
        "- The threshold of 0.72 would give a balanced precision and recall.\n",
        "- We can choose the threshold to be a bit higher to make the recall higher but then the precision would drop.\n",
        "- **This decision depends on the stakeholders and other business driven factors.** For example, if the company can bear the cost of some false positives and be more conservative while approving loans then we can choose for the recall to be higher.\n",
        "- Let's choose the recall to be 0.75 for the current scenario, since we have mentioned that the company wants to optimize recall.\n",
        "- **Note:** We also don't want the precision to be so poor that it outweighs the benefits of a higher recall. "
      ]
    },
    {
      "cell_type": "markdown",
      "metadata": {
        "id": "KBEGSN6ib0k3"
      },
      "source": [
        "Let's compare the performance of the model on training and testing sets after changing the threshold."
      ]
    },
    {
      "cell_type": "code",
      "metadata": {
        "id": "9UmTsFiuDPzX",
        "colab": {
          "base_uri": "https://localhost:8080/",
          "height": 487
        },
        "outputId": "8c7ba31c-9715-4caf-8b2f-bc1210b7eeff"
      },
      "source": [
        "optimal_threshold1 = 0.75\n",
        "metrics_score(y_train, y_scores[:,1]>optimal_threshold1)"
      ],
      "execution_count": 37,
      "outputs": [
        {
          "output_type": "stream",
          "name": "stdout",
          "text": [
            "              precision    recall  f1-score   support\n",
            "\n",
            "           0       0.51      0.73      0.60       131\n",
            "           1       0.85      0.69      0.76       298\n",
            "\n",
            "    accuracy                           0.70       429\n",
            "   macro avg       0.68      0.71      0.68       429\n",
            "weighted avg       0.75      0.70      0.71       429\n",
            "\n"
          ]
        },
        {
          "output_type": "display_data",
          "data": {
            "image/png": "[encoded data removed]",
            "text/plain": [
              "<Figure size 576x360 with 2 Axes>"
            ]
          },
          "metadata": {
            "needs_background": "light"
          }
        }
      ]
    },
    {
      "cell_type": "code",
      "metadata": {
        "id": "tZZ_ZG2yDPza",
        "colab": {
          "base_uri": "https://localhost:8080/",
          "height": 487
        },
        "outputId": "a606bff2-232b-4fe2-8e13-365305fc7890"
      },
      "source": [
        "# Check performance on the testing data\n",
        "y_pred_test = log_reg.predict_proba(X_test)\n",
        "metrics_score(y_test, y_pred_test[:,1]>optimal_threshold1)"
      ],
      "execution_count": 38,
      "outputs": [
        {
          "output_type": "stream",
          "name": "stdout",
          "text": [
            "              precision    recall  f1-score   support\n",
            "\n",
            "           0       0.56      0.66      0.60        61\n",
            "           1       0.81      0.74      0.78       124\n",
            "\n",
            "    accuracy                           0.71       185\n",
            "   macro avg       0.68      0.70      0.69       185\n",
            "weighted avg       0.73      0.71      0.72       185\n",
            "\n"
          ]
        },
        {
          "output_type": "display_data",
          "data": {
            "image/png": "[encoded data removed]",
            "text/plain": [
              "<Figure size 576x360 with 2 Axes>"
            ]
          },
          "metadata": {
            "needs_background": "light"
          }
        }
      ]
    },
    {
      "cell_type": "markdown",
      "metadata": {
        "id": "8axwm450vf8O"
      },
      "source": [
        "**Observations:**\n",
        "- After updating the threshold, we see a significant reduction in the number of False Positives. We only mark an applicant as eligible when they should not be **36 times** on the training data and **21 times** on the test data.\n",
        "- The accuracy of our prediction has dropped to around **70%** in both the test and train data.\n",
        "- However we see an improved recall in class 0 to **73%** on the train data and **66%** on the test data. However we also see a reduction in precision as well as in the Recall for class 1 on both test and train data."
      ]
    },
    {
      "cell_type": "markdown",
      "metadata": {
        "id": "t_mZdh8VDPzb"
      },
      "source": [
        "### K - Nearest Neighbors (KNN)"
      ]
    },
    {
      "cell_type": "markdown",
      "metadata": {
        "id": "-UbHz9RuDPzc"
      },
      "source": [
        "- KNN is a distance based algorithm and all distance based algorithms are affected by the scale of the data.\n",
        "- We will scale the attributes (dataframe X defined above) before building the KNN model.\n",
        "\n",
        "**But before actually building the model, we need to identify the value of K to be used in KNN. We will perform the following steps for the same.**\n",
        "\n",
        "- For every value of K (from 1 to 20), split the train set into new train and validation set (30 times)\n",
        "- Scale the training data and validation data\n",
        "- Take the average of the error on these train and the validation sets for each K\n",
        "- Plot the average train vs the validation set error for all Ks \n",
        "- Choose a suitable K from the plot where the two errors are comparable"
      ]
    },
    {
      "cell_type": "code",
      "metadata": {
        "id": "AGOzbhU0DPzd",
        "colab": {
          "base_uri": "https://localhost:8080/"
        },
        "outputId": "86766a3e-5cae-433f-d069-6a066cf6a6e2"
      },
      "source": [
        "knn = KNeighborsClassifier()\n",
        "ss = StandardScaler()\n",
        "\n",
        "# We select the best value of k for which the error rate is the least in the validation data\n",
        "# Let's loop over a few values of the k to determine the best k\n",
        "train_error = []\n",
        "test_error = []\n",
        "knn_many_split = {}\n",
        "\n",
        "error_df_knn = pd.DataFrame()\n",
        "features = X.columns\n",
        "\n",
        "for k in range(1,21):\n",
        "    train_error = []\n",
        "    test_error = []\n",
        "    lista = []\n",
        "    knn = KNeighborsClassifier(n_neighbors=k)\n",
        "    for i in range(30):\n",
        "        x_train_new, x_val, y_train_new, y_val = train_test_split(X_train, y_train, test_size = 0.20)\n",
        "    \n",
        "        # Scale the training data with a fit and a transform\n",
        "        x_train_new = ss.fit_transform(x_train_new)\n",
        "        # Transform the validation set\n",
        "        x_val = ss.transform(x_val)\n",
        "        # Fit knn on the training data\n",
        "        knn.fit(x_train_new, y_train_new)\n",
        "        # Calculate the error on the training and validation data\n",
        "        train_error.append(1 - knn.score(x_train_new, y_train_new)) \n",
        "        test_error.append(1 - knn.score(x_val, y_val))\n",
        "        \n",
        "    lista.append(sum(train_error)/len(train_error))\n",
        "    lista.append(sum(test_error)/len(test_error))\n",
        "    knn_many_split[k] = lista\n",
        "\n",
        "knn_many_split"
      ],
      "execution_count": 39,
      "outputs": [
        {
          "output_type": "execute_result",
          "data": {
            "text/plain": [
              "{1: [0.0, 0.2693798449612403],\n",
              " 2: [0.11486880466472305, 0.3387596899224805],\n",
              " 3: [0.15694849368318753, 0.24263565891472877],\n",
              " 4: [0.16686103012633619, 0.2713178294573643],\n",
              " 5: [0.18454810495626825, 0.22325581395348834],\n",
              " 6: [0.18435374149659864, 0.24457364341085278],\n",
              " 7: [0.19018464528668608, 0.23100775193798448],\n",
              " 8: [0.19028182701652094, 0.22403100775193813],\n",
              " 9: [0.19844509232264337, 0.21472868217054272],\n",
              " 10: [0.19620991253644318, 0.21860465116279074],\n",
              " 11: [0.19815354713313899, 0.230232558139535],\n",
              " 12: [0.1940719144800778, 0.21821705426356594],\n",
              " 13: [0.2029154518950437, 0.20968992248062016],\n",
              " 14: [0.19280855199222552, 0.21472868217054264],\n",
              " 15: [0.19980563654033048, 0.20658914728682173],\n",
              " 16: [0.1961127308066084, 0.20697674418604656],\n",
              " 17: [0.2025267249757046, 0.20542635658914735],\n",
              " 18: [0.19786200194363465, 0.20348837209302323],\n",
              " 19: [0.20184645286686106, 0.21434108527131784],\n",
              " 20: [0.19378036929057338, 0.22713178294573638]}"
            ]
          },
          "metadata": {},
          "execution_count": 39
        }
      ]
    },
    {
      "cell_type": "code",
      "metadata": {
        "id": "5eaW0nGbDPzh",
        "colab": {
          "base_uri": "https://localhost:8080/",
          "height": 374
        },
        "outputId": "bb827e8a-3a0b-4c5b-d688-04ca4297f874"
      },
      "source": [
        "# Extract the training and the testing error for each k into a list for ease of plotting\n",
        "kltest = []\n",
        "vltest = []\n",
        "for k, v in knn_many_split.items():\n",
        "    kltest.append(k)\n",
        "    vltest.append(knn_many_split[k][1])\n",
        "\n",
        "kltrain = []\n",
        "vltrain = []\n",
        "\n",
        "for k, v in knn_many_split.items():\n",
        "    kltrain.append(k)\n",
        "    vltrain.append(knn_many_split[k][0])\n",
        "\n",
        "# Plot the value of k vs. the error \n",
        "plt.figure(figsize=(10,6))\n",
        "plt.plot(kltest,vltest, label = 'test' )\n",
        "plt.plot(kltrain,vltrain, label = 'train')\n",
        "plt.legend()\n",
        "plt.show()"
      ],
      "execution_count": 40,
      "outputs": [
        {
          "output_type": "display_data",
          "data": {
            "image/png": "[encoded data removed]",
            "text/plain": [
              "<Figure size 720x432 with 1 Axes>"
            ]
          },
          "metadata": {
            "needs_background": "light"
          }
        }
      ]
    },
    {
      "cell_type": "markdown",
      "metadata": {
        "id": "Dw7qtTmODPzj"
      },
      "source": [
        "**Observations:**\n",
        "- We can see that the train error and the test error are more or less similar for K more than or equal to 7.\n",
        "- This implies that we would get generalized results if we choose K=7.\n",
        "- So, let's scale the full data and fit the model on the entire training set. "
      ]
    },
    {
      "cell_type": "code",
      "metadata": {
        "id": "vbm0fsfIDPzk"
      },
      "source": [
        "# Scale the data\n",
        "scaler = StandardScaler()\n",
        "# Fit and transform the training data\n",
        "X_train_scaled = pd.DataFrame(scaler.fit_transform(X_train), columns=X_train.columns)\n",
        "# Transform the testing data\n",
        "X_test_scaled = pd.DataFrame(scaler.transform(X_test), columns=X_test.columns)"
      ],
      "execution_count": 41,
      "outputs": []
    },
    {
      "cell_type": "code",
      "metadata": {
        "id": "cLMS_4Z6b0lB",
        "colab": {
          "base_uri": "https://localhost:8080/"
        },
        "outputId": "c76747f1-a9c8-4edc-ff48-87b601bffb01"
      },
      "source": [
        "# Fit the model onto the scaled data\n",
        "knn = KNeighborsClassifier(n_neighbors = 7, weights='distance')\n",
        "knn.fit(X_train_scaled, y_train)"
      ],
      "execution_count": 42,
      "outputs": [
        {
          "output_type": "execute_result",
          "data": {
            "text/plain": [
              "KNeighborsClassifier(algorithm='auto', leaf_size=30, metric='minkowski',\n",
              "                     metric_params=None, n_jobs=None, n_neighbors=7, p=2,\n",
              "                     weights='distance')"
            ]
          },
          "metadata": {},
          "execution_count": 42
        }
      ]
    },
    {
      "cell_type": "markdown",
      "metadata": {
        "id": "EVnW7sjwDPzm"
      },
      "source": [
        "**We will now check the performance of the model on the training and testing data.** "
      ]
    },
    {
      "cell_type": "code",
      "metadata": {
        "id": "cKgxffwiDPzn",
        "colab": {
          "base_uri": "https://localhost:8080/",
          "height": 487
        },
        "outputId": "3cbcdcb8-cc1f-45b8-d6d9-0319a459295b"
      },
      "source": [
        "# Predict on training data\n",
        "y_pred_train_knn = knn.predict(X_train_scaled)\n",
        "\n",
        "# Check the performance of the model using the metrics_score() function defined earlier\n",
        "metrics_score(y_train, y_pred_train_knn)"
      ],
      "execution_count": 43,
      "outputs": [
        {
          "output_type": "stream",
          "name": "stdout",
          "text": [
            "              precision    recall  f1-score   support\n",
            "\n",
            "           0       1.00      1.00      1.00       131\n",
            "           1       1.00      1.00      1.00       298\n",
            "\n",
            "    accuracy                           1.00       429\n",
            "   macro avg       1.00      1.00      1.00       429\n",
            "weighted avg       1.00      1.00      1.00       429\n",
            "\n"
          ]
        },
        {
          "output_type": "display_data",
          "data": {
            "image/png": "[encoded data removed]",
            "text/plain": [
              "<Figure size 576x360 with 2 Axes>"
            ]
          },
          "metadata": {
            "needs_background": "light"
          }
        }
      ]
    },
    {
      "cell_type": "markdown",
      "metadata": {
        "id": "dWPmkx7SyANS"
      },
      "source": [
        "**Observations:**\n",
        "- It seems this model predicts with **100% accuracy** on the scaled train data, with a recall of **100%** for both classes. This very likely indicates that the model is overfitting."
      ]
    },
    {
      "cell_type": "code",
      "metadata": {
        "id": "0GYw-kr6DPzo",
        "colab": {
          "base_uri": "https://localhost:8080/",
          "height": 487
        },
        "outputId": "86b75da6-42da-4c90-f7c0-4feedcfad61c"
      },
      "source": [
        "# Predict on the testing data\n",
        "y_pred_test_knn = knn.predict(X_test_scaled)\n",
        "\n",
        "# Check the performance of the model\n",
        "metrics_score(y_test, y_pred_test_knn)"
      ],
      "execution_count": 44,
      "outputs": [
        {
          "output_type": "stream",
          "name": "stdout",
          "text": [
            "              precision    recall  f1-score   support\n",
            "\n",
            "           0       0.61      0.31      0.41        61\n",
            "           1       0.73      0.90      0.81       124\n",
            "\n",
            "    accuracy                           0.71       185\n",
            "   macro avg       0.67      0.61      0.61       185\n",
            "weighted avg       0.69      0.71      0.68       185\n",
            "\n"
          ]
        },
        {
          "output_type": "display_data",
          "data": {
            "image/png": "[encoded data removed]",
            "text/plain": [
              "<Figure size 576x360 with 2 Axes>"
            ]
          },
          "metadata": {
            "needs_background": "light"
          }
        }
      ]
    },
    {
      "cell_type": "markdown",
      "metadata": {
        "id": "qvhsZIbAyOhY"
      },
      "source": [
        "**Observation:**\n",
        "- When using this model on the test data, we see an accuracy of around **71%**.\n",
        "- We also see that there is about a **90% chance** that the model will detect that an applicant is eligible when they actually are eligible.\n",
        "- However, we also see that there is only a **31% chance** that the model will detect that an applicant is not eligible when they are actually not eligible."
      ]
    },
    {
      "cell_type": "markdown",
      "metadata": {
        "id": "Yi0FiWbAl4H5"
      },
      "source": [
        "## Conclusion:"
      ]
    },
    {
      "cell_type": "markdown",
      "metadata": {
        "id": "Vs6j0tlsyY5w"
      },
      "source": [
        "- We have attempted multiple models and have been able to identify some key factors involved with determining when an applicant is eligible for a loan. \n",
        "- After determining a more accurate threshold, we saw increased recall rates in the Logistic Regression model at the expense of minor amounts of accuracy.\n",
        "- We also see a significant improvement overall on the KNN classifier model on the training data. However, with this model we also see a significant number of False Positives on the testing data."
      ]
    },
    {
      "cell_type": "markdown",
      "metadata": {
        "id": "2BkZh6eHluZK"
      },
      "source": [
        "## Recommendations:"
      ]
    },
    {
      "cell_type": "markdown",
      "metadata": {
        "id": "4hNfrF1qydIw"
      },
      "source": [
        "- We see that applicants with high credit scores and those applying in Semi-urban neighborhoods are significantly more likely to be approved for a loan.\n",
        "- If the organization wishes to minimize credit risk, credit score should be the primary category of focus. Those with high credit are **significantly more likely** to be approved for a loan. \n",
        "- It is also worth paying attention to applicants who are Married or have dependents. They are also more likely to be approved.\n",
        "- Overall we saw the highest Recall and accuracy in the KNN classification model when looking at the training data. Using this model, it can help give a more accurate prediction as to whether or not the applicant should be approved for a loan. It would also be in the company's best interest to verify the results using the criteria mentioned in previous bullet points to double check that the applicant should be approved."
      ]
    }
  ]
}